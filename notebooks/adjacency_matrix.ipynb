{
 "cells": [
  {
   "cell_type": "code",
   "execution_count": 1,
   "metadata": {
    "collapsed": true
   },
   "outputs": [],
   "source": [
    "import numpy as np\n",
    "from collections import defaultdict\n",
    "import matplotlib\n",
    "import matplotlib.pyplot as plt\n",
    "import networkx as nx\n",
    "import torch\n",
    "%matplotlib inline"
   ]
  },
  {
   "cell_type": "code",
   "execution_count": 21,
   "metadata": {
    "collapsed": true
   },
   "outputs": [],
   "source": [
    "from pylab import rcParams\n",
    "rcParams['figure.figsize'] = 14, 10"
   ]
  },
  {
   "cell_type": "code",
   "execution_count": 59,
   "metadata": {},
   "outputs": [
    {
     "name": "stdout",
     "output_type": "stream",
     "text": [
      "['root', 'john', 'saw', 'mary']\n",
      "[0, 1, 2, 3]\n",
      "4\n"
     ]
    }
   ],
   "source": [
    "w2i = defaultdict(lambda: len(w2i))\n",
    "sentence = \"root john saw mary\".split()\n",
    "sentence_ids = [w2i[token] for token in sentence]\n",
    "num_words = len(sentence)\n",
    "i2w = {i: w for w, i in w2i.items()}\n",
    "\n",
    "print(sentence)\n",
    "print(sentence_ids)\n",
    "print(num_words)"
   ]
  },
  {
   "cell_type": "code",
   "execution_count": 60,
   "metadata": {
    "scrolled": true
   },
   "outputs": [
    {
     "name": "stdout",
     "output_type": "stream",
     "text": [
      "[[ -1.   9.  10.   9.]\n",
      " [ -1.  -1.  20.   3.]\n",
      " [ -1.  30.  -1.  30.]\n",
      " [ -1.  11.   0.  -1.]]\n",
      "torch.Size([4, 4])\n"
     ]
    }
   ],
   "source": [
    "# define the scores\n",
    "scores = np.full([num_words, num_words], -1.)\n",
    "scores[w2i['root']][w2i['saw']] = 10.\n",
    "scores[w2i['root']][w2i['mary']] = 9.\n",
    "scores[w2i['root']][w2i['john']] = 9.\n",
    "scores[w2i['john']][w2i['saw']] = 20.\n",
    "scores[w2i['john']][w2i['mary']] = 3.\n",
    "scores[w2i['saw']][w2i['mary']] = 30.\n",
    "scores[w2i['saw']][w2i['john']] = 30.\n",
    "scores[w2i['mary']][w2i['john']] = 11.\n",
    "scores[w2i['mary']][w2i['saw']] = 0.\n",
    "\n",
    "print(scores)\n",
    "score_tensor = torch.LongTensor(scores)\n",
    "print(score_tensor.shape)"
   ]
  },
  {
   "cell_type": "code",
   "execution_count": 61,
   "metadata": {},
   "outputs": [
    {
     "data": {
      "image/png": "[encoded data removed]",
      "text/plain": [
       "<matplotlib.figure.Figure at 0x7f967e188588>"
      ]
     },
     "metadata": {},
     "output_type": "display_data"
    }
   ],
   "source": [
    "def plot_heatmap(scores, sentence):\n",
    "\n",
    "    # make heatmap with the scores\n",
    "    fig, ax = plt.subplots()\n",
    "    heatmap = ax.pcolor(scores, cmap='viridis')\n",
    "\n",
    "    # set tick labels to the words\n",
    "    ax.set_xticklabels(sentence, minor=False)\n",
    "    ax.set_yticklabels(sentence, minor=False)\n",
    "\n",
    "    # put the major ticks at the middle of each cell\n",
    "    # and the x-ticks on top\n",
    "    ax.xaxis.tick_top()\n",
    "    ax.set_xticks(np.arange(scores.shape[1]) + 0.5, minor=False)\n",
    "    ax.set_yticks(np.arange(scores.shape[0]) + 0.5, minor=False)\n",
    "    ax.invert_yaxis()\n",
    "\n",
    "    # display values\n",
    "    for y in range(scores.shape[0]):\n",
    "        for x in range(scores.shape[1]):\n",
    "            plt.text(x + 0.5, y + 0.5, '%.0f' % scores[y, x],\n",
    "                     horizontalalignment='center',\n",
    "                     verticalalignment='center',\n",
    "                     color='w')\n",
    "\n",
    "    plt.colorbar(heatmap)\n",
    "    plt.show()\n",
    "    \n",
    "plot_heatmap(scores, sentence)"
   ]
  },
  {
   "cell_type": "markdown",
   "metadata": {},
   "source": [
    "## A custom example from en_ewt-ud-train.conllu"
   ]
  },
  {
   "cell_type": "code",
   "execution_count": 25,
   "metadata": {},
   "outputs": [
    {
     "name": "stdout",
     "output_type": "stream",
     "text": [
      "19\n",
      "['My', 'point', ':', 'Even', 'if', 'I', 'was', 'wrong', ',', 'do', \"n't\", 'sit', 'there', 'and', 'argue', 'with', 'the', 'customer', '.']\n"
     ]
    }
   ],
   "source": [
    "tokens = [\"My\",\"point\",\":\",\"Even\",\"if\",\"I\",\"was\",\"wrong\",\",\",\"do\",\"n't\",\"sit\",\"there\",\"and\",\"argue\",\"with\",\"the\",\"customer\",\".\"]\n",
    "print(len(tokens))\n",
    "print(tokens)"
   ]
  },
  {
   "cell_type": "code",
   "execution_count": 26,
   "metadata": {},
   "outputs": [
    {
     "name": "stdout",
     "output_type": "stream",
     "text": [
      "20\n",
      "['(1, 0)', '(0, 1)', '(1, 2)', '(7, 3)', '(7, 4)', '(7, 5)', '(7, 6)', '(11, 7)', '(11, 8)', '(11, 9)', '(11, 10)', '(1, 11)', '(11, 12)', '(14, 13)', '(1, 14)', '(11, 14)', '(17, 15)', '(17, 16)', '(14, 17)', '(1, 18)']\n"
     ]
    }
   ],
   "source": [
    "# note, the root here is made up\n",
    "indices = [\"(1, 0)\",\"(0, 1)\",\"(1, 2)\",\"(7, 3)\",\"(7, 4)\",\"(7, 5)\",\"(7, 6)\",\"(11, 7)\",\"(11, 8)\",\"(11, 9)\",\"(11, 10)\",\"(1, 11)\",\"(11, 12)\",\"(14, 13)\",\"(1, 14)\",\"(11, 14)\",\"(17, 15)\",\"(17, 16)\",\"(14, 17)\",\"(1, 18)\"]\n",
    "print(len(indices))\n",
    "print(indices)"
   ]
  },
  {
   "cell_type": "code",
   "execution_count": 27,
   "metadata": {},
   "outputs": [
    {
     "name": "stdout",
     "output_type": "stream",
     "text": [
      "20\n",
      "[3, 4, 0, 1, 5, 6, 7, 8, 0, 9, 1, 2, 1, 10, 2, 11, 12, 13, 14, 0]\n"
     ]
    }
   ],
   "source": [
    "labels = [3,4,0,1,5,6,7,8,0,9,1,2,1,10,2,11,12,13,14,0]\n",
    "print(len(labels))\n",
    "print(labels)"
   ]
  },
  {
   "cell_type": "code",
   "execution_count": 28,
   "metadata": {},
   "outputs": [
    {
     "name": "stdout",
     "output_type": "stream",
     "text": [
      "19\n",
      "[[-1.0, 4.0, -1.0, -1.0, -1.0, -1.0, -1.0, -1.0, -1.0, -1.0, -1.0, -1.0, -1.0, -1.0, -1.0, -1.0, -1.0, -1.0, -1.0], [3.0, -1.0, 0.0, -1.0, -1.0, -1.0, -1.0, -1.0, -1.0, -1.0, -1.0, 2.0, -1.0, -1.0, 2.0, -1.0, -1.0, -1.0, 0.0], [-1.0, -1.0, -1.0, -1.0, -1.0, -1.0, -1.0, -1.0, -1.0, -1.0, -1.0, -1.0, -1.0, -1.0, -1.0, -1.0, -1.0, -1.0, -1.0], [-1.0, -1.0, -1.0, -1.0, -1.0, -1.0, -1.0, -1.0, -1.0, -1.0, -1.0, -1.0, -1.0, -1.0, -1.0, -1.0, -1.0, -1.0, -1.0], [-1.0, -1.0, -1.0, -1.0, -1.0, -1.0, -1.0, -1.0, -1.0, -1.0, -1.0, -1.0, -1.0, -1.0, -1.0, -1.0, -1.0, -1.0, -1.0], [-1.0, -1.0, -1.0, -1.0, -1.0, -1.0, -1.0, -1.0, -1.0, -1.0, -1.0, -1.0, -1.0, -1.0, -1.0, -1.0, -1.0, -1.0, -1.0], [-1.0, -1.0, -1.0, -1.0, -1.0, -1.0, -1.0, -1.0, -1.0, -1.0, -1.0, -1.0, -1.0, -1.0, -1.0, -1.0, -1.0, -1.0, -1.0], [-1.0, -1.0, -1.0, 1.0, 5.0, 6.0, 7.0, -1.0, -1.0, -1.0, -1.0, -1.0, -1.0, -1.0, -1.0, -1.0, -1.0, -1.0, -1.0], [-1.0, -1.0, -1.0, -1.0, -1.0, -1.0, -1.0, -1.0, -1.0, -1.0, -1.0, -1.0, -1.0, -1.0, -1.0, -1.0, -1.0, -1.0, -1.0], [-1.0, -1.0, -1.0, -1.0, -1.0, -1.0, -1.0, -1.0, -1.0, -1.0, -1.0, -1.0, -1.0, -1.0, -1.0, -1.0, -1.0, -1.0, -1.0], [-1.0, -1.0, -1.0, -1.0, -1.0, -1.0, -1.0, -1.0, -1.0, -1.0, -1.0, -1.0, -1.0, -1.0, -1.0, -1.0, -1.0, -1.0, -1.0], [-1.0, -1.0, -1.0, -1.0, -1.0, -1.0, -1.0, 8.0, 0.0, 9.0, 1.0, -1.0, 1.0, -1.0, 11.0, -1.0, -1.0, -1.0, -1.0], [-1.0, -1.0, -1.0, -1.0, -1.0, -1.0, -1.0, -1.0, -1.0, -1.0, -1.0, -1.0, -1.0, -1.0, -1.0, -1.0, -1.0, -1.0, -1.0], [-1.0, -1.0, -1.0, -1.0, -1.0, -1.0, -1.0, -1.0, -1.0, -1.0, -1.0, -1.0, -1.0, -1.0, -1.0, -1.0, -1.0, -1.0, -1.0], [-1.0, -1.0, -1.0, -1.0, -1.0, -1.0, -1.0, -1.0, -1.0, -1.0, -1.0, -1.0, -1.0, 10.0, -1.0, -1.0, -1.0, 14.0, -1.0], [-1.0, -1.0, -1.0, -1.0, -1.0, -1.0, -1.0, -1.0, -1.0, -1.0, -1.0, -1.0, -1.0, -1.0, -1.0, -1.0, -1.0, -1.0, -1.0], [-1.0, -1.0, -1.0, -1.0, -1.0, -1.0, -1.0, -1.0, -1.0, -1.0, -1.0, -1.0, -1.0, -1.0, -1.0, -1.0, -1.0, -1.0, -1.0], [-1.0, -1.0, -1.0, -1.0, -1.0, -1.0, -1.0, -1.0, -1.0, -1.0, -1.0, -1.0, -1.0, -1.0, -1.0, 12.0, 13.0, -1.0, -1.0], [-1.0, -1.0, -1.0, -1.0, -1.0, -1.0, -1.0, -1.0, -1.0, -1.0, -1.0, -1.0, -1.0, -1.0, -1.0, -1.0, -1.0, -1.0, -1.0]]\n"
     ]
    }
   ],
   "source": [
    "coords = [[-1.0, 4.0, -1.0, -1.0, -1.0, -1.0, -1.0, -1.0, -1.0, -1.0, -1.0, -1.0, -1.0, -1.0, -1.0, -1.0, -1.0, -1.0, -1.0],\n",
    "          [3.0, -1.0, 0.0, -1.0, -1.0, -1.0, -1.0, -1.0, -1.0, -1.0, -1.0, 2.0, -1.0, -1.0, 2.0, -1.0, -1.0, -1.0, 0.0],\n",
    "          [-1.0, -1.0, -1.0, -1.0, -1.0, -1.0, -1.0, -1.0, -1.0, -1.0, -1.0, -1.0, -1.0, -1.0, -1.0, -1.0, -1.0, -1.0, -1.0],\n",
    "          [-1.0, -1.0, -1.0, -1.0, -1.0, -1.0, -1.0, -1.0, -1.0, -1.0, -1.0, -1.0, -1.0, -1.0, -1.0, -1.0, -1.0, -1.0, -1.0],\n",
    "          [-1.0, -1.0, -1.0, -1.0, -1.0, -1.0, -1.0, -1.0, -1.0, -1.0, -1.0, -1.0, -1.0, -1.0, -1.0, -1.0, -1.0, -1.0, -1.0],\n",
    "          [-1.0, -1.0, -1.0, -1.0, -1.0, -1.0, -1.0, -1.0, -1.0, -1.0, -1.0, -1.0, -1.0, -1.0, -1.0, -1.0, -1.0, -1.0, -1.0],\n",
    "          [-1.0, -1.0, -1.0, -1.0, -1.0, -1.0, -1.0, -1.0, -1.0, -1.0, -1.0, -1.0, -1.0, -1.0, -1.0, -1.0, -1.0, -1.0, -1.0],\n",
    "          [-1.0, -1.0, -1.0, 1.0, 5.0, 6.0, 7.0, -1.0, -1.0, -1.0, -1.0, -1.0, -1.0, -1.0, -1.0, -1.0, -1.0, -1.0, -1.0],\n",
    "          [-1.0, -1.0, -1.0, -1.0, -1.0, -1.0, -1.0, -1.0, -1.0, -1.0, -1.0, -1.0, -1.0, -1.0, -1.0, -1.0, -1.0, -1.0, -1.0],\n",
    "          [-1.0, -1.0, -1.0, -1.0, -1.0, -1.0, -1.0, -1.0, -1.0, -1.0, -1.0, -1.0, -1.0, -1.0, -1.0, -1.0, -1.0, -1.0, -1.0],\n",
    "          [-1.0, -1.0, -1.0, -1.0, -1.0, -1.0, -1.0, -1.0, -1.0, -1.0, -1.0, -1.0, -1.0, -1.0, -1.0, -1.0, -1.0, -1.0, -1.0],\n",
    "          [-1.0, -1.0, -1.0, -1.0, -1.0, -1.0, -1.0, 8.0, 0.0, 9.0, 1.0, -1.0, 1.0, -1.0, 11.0, -1.0, -1.0, -1.0, -1.0],\n",
    "          [-1.0, -1.0, -1.0, -1.0, -1.0, -1.0, -1.0, -1.0, -1.0, -1.0, -1.0, -1.0, -1.0, -1.0, -1.0, -1.0, -1.0, -1.0, -1.0],\n",
    "          [-1.0, -1.0, -1.0, -1.0, -1.0, -1.0, -1.0, -1.0, -1.0, -1.0, -1.0, -1.0, -1.0, -1.0, -1.0, -1.0, -1.0, -1.0, -1.0],\n",
    "          [-1.0, -1.0, -1.0, -1.0, -1.0, -1.0, -1.0, -1.0, -1.0, -1.0, -1.0, -1.0, -1.0, 10.0, -1.0, -1.0, -1.0, 14.0, -1.0],\n",
    "          [-1.0, -1.0, -1.0, -1.0, -1.0, -1.0, -1.0, -1.0, -1.0, -1.0, -1.0, -1.0, -1.0, -1.0, -1.0, -1.0, -1.0, -1.0, -1.0],\n",
    "          [-1.0, -1.0, -1.0, -1.0, -1.0, -1.0, -1.0, -1.0, -1.0, -1.0, -1.0, -1.0, -1.0, -1.0, -1.0, -1.0, -1.0, -1.0, -1.0],\n",
    "          [-1.0, -1.0, -1.0, -1.0, -1.0, -1.0, -1.0, -1.0, -1.0, -1.0, -1.0, -1.0, -1.0, -1.0, -1.0, 12.0, 13.0, -1.0, -1.0],\n",
    "          [-1.0, -1.0, -1.0, -1.0, -1.0, -1.0, -1.0, -1.0, -1.0, -1.0, -1.0, -1.0, -1.0, -1.0, -1.0, -1.0, -1.0, -1.0, -1.0]]\n",
    "\n",
    "print(len(coords))\n",
    "print(coords)"
   ]
  },
  {
   "cell_type": "code",
   "execution_count": 29,
   "metadata": {},
   "outputs": [
    {
     "name": "stdout",
     "output_type": "stream",
     "text": [
      "(1, 0) ==> 3\n",
      "(0, 1) ==> 4\n",
      "(1, 2) ==> 0\n",
      "(7, 3) ==> 1\n",
      "(7, 4) ==> 5\n",
      "(7, 5) ==> 6\n",
      "(7, 6) ==> 7\n",
      "(11, 7) ==> 8\n",
      "(11, 8) ==> 0\n",
      "(11, 9) ==> 9\n",
      "(11, 10) ==> 1\n",
      "(1, 11) ==> 2\n",
      "(11, 12) ==> 1\n",
      "(14, 13) ==> 10\n",
      "(1, 14) ==> 2\n",
      "(11, 14) ==> 11\n",
      "(17, 15) ==> 12\n",
      "(17, 16) ==> 13\n",
      "(14, 17) ==> 14\n",
      "(1, 18) ==> 0\n"
     ]
    }
   ],
   "source": [
    "for hm, label in zip(indices, labels):\n",
    "    print(hm, \"==>\", label)"
   ]
  },
  {
   "cell_type": "code",
   "execution_count": 30,
   "metadata": {},
   "outputs": [
    {
     "name": "stdout",
     "output_type": "stream",
     "text": [
      "tensor([[-1,  4, -1, -1, -1, -1, -1, -1, -1, -1, -1, -1, -1, -1, -1, -1, -1, -1,\n",
      "         -1],\n",
      "        [ 3, -1,  0, -1, -1, -1, -1, -1, -1, -1, -1,  2, -1, -1,  2, -1, -1, -1,\n",
      "          0],\n",
      "        [-1, -1, -1, -1, -1, -1, -1, -1, -1, -1, -1, -1, -1, -1, -1, -1, -1, -1,\n",
      "         -1],\n",
      "        [-1, -1, -1, -1, -1, -1, -1, -1, -1, -1, -1, -1, -1, -1, -1, -1, -1, -1,\n",
      "         -1],\n",
      "        [-1, -1, -1, -1, -1, -1, -1, -1, -1, -1, -1, -1, -1, -1, -1, -1, -1, -1,\n",
      "         -1],\n",
      "        [-1, -1, -1, -1, -1, -1, -1, -1, -1, -1, -1, -1, -1, -1, -1, -1, -1, -1,\n",
      "         -1],\n",
      "        [-1, -1, -1, -1, -1, -1, -1, -1, -1, -1, -1, -1, -1, -1, -1, -1, -1, -1,\n",
      "         -1],\n",
      "        [-1, -1, -1,  1,  5,  6,  7, -1, -1, -1, -1, -1, -1, -1, -1, -1, -1, -1,\n",
      "         -1],\n",
      "        [-1, -1, -1, -1, -1, -1, -1, -1, -1, -1, -1, -1, -1, -1, -1, -1, -1, -1,\n",
      "         -1],\n",
      "        [-1, -1, -1, -1, -1, -1, -1, -1, -1, -1, -1, -1, -1, -1, -1, -1, -1, -1,\n",
      "         -1],\n",
      "        [-1, -1, -1, -1, -1, -1, -1, -1, -1, -1, -1, -1, -1, -1, -1, -1, -1, -1,\n",
      "         -1],\n",
      "        [-1, -1, -1, -1, -1, -1, -1,  8,  0,  9,  1, -1,  1, -1, 11, -1, -1, -1,\n",
      "         -1],\n",
      "        [-1, -1, -1, -1, -1, -1, -1, -1, -1, -1, -1, -1, -1, -1, -1, -1, -1, -1,\n",
      "         -1],\n",
      "        [-1, -1, -1, -1, -1, -1, -1, -1, -1, -1, -1, -1, -1, -1, -1, -1, -1, -1,\n",
      "         -1],\n",
      "        [-1, -1, -1, -1, -1, -1, -1, -1, -1, -1, -1, -1, -1, 10, -1, -1, -1, 14,\n",
      "         -1],\n",
      "        [-1, -1, -1, -1, -1, -1, -1, -1, -1, -1, -1, -1, -1, -1, -1, -1, -1, -1,\n",
      "         -1],\n",
      "        [-1, -1, -1, -1, -1, -1, -1, -1, -1, -1, -1, -1, -1, -1, -1, -1, -1, -1,\n",
      "         -1],\n",
      "        [-1, -1, -1, -1, -1, -1, -1, -1, -1, -1, -1, -1, -1, -1, -1, 12, 13, -1,\n",
      "         -1],\n",
      "        [-1, -1, -1, -1, -1, -1, -1, -1, -1, -1, -1, -1, -1, -1, -1, -1, -1, -1,\n",
      "         -1]])\n"
     ]
    }
   ],
   "source": [
    "tensor = torch.LongTensor(coords)\n",
    "print(tensor)"
   ]
  },
  {
   "cell_type": "code",
   "execution_count": 31,
   "metadata": {},
   "outputs": [
    {
     "data": {
      "image/png": "[encoded data removed]",
      "text/plain": [
       "<matplotlib.figure.Figure at 0x7f967de0a208>"
      ]
     },
     "metadata": {},
     "output_type": "display_data"
    }
   ],
   "source": [
    "plot_heatmap(tensor, tokens)"
   ]
  },
  {
   "cell_type": "code",
   "execution_count": 62,
   "metadata": {
    "collapsed": true
   },
   "outputs": [],
   "source": [
    "double_sentence = ['John', 'wants', 'to', 'eat']\n",
    "heads = [[2, 4], [0], [4], [1]]\n",
    "relations = ['nsubj', 'nsubj', 'root', 'det', 'cc']"
   ]
  },
  {
   "cell_type": "code",
   "execution_count": 75,
   "metadata": {},
   "outputs": [
    {
     "name": "stdout",
     "output_type": "stream",
     "text": [
      "<head> ==> <modifier>\n",
      "2 ==> 1\n",
      "4 ==> 1\n",
      "0 ==> 2\n",
      "4 ==> 3\n",
      "1 ==> 4\n",
      "[(2, 1), (4, 1), (0, 2), (4, 3), (1, 4)]\n"
     ]
    }
   ],
   "source": [
    "indices = []\n",
    "print(\"<head> ==> <modifier>\")\n",
    "# start from 1 as conllu words are 1-indexed.\n",
    "# this is fine for tensor indexing as the root will be 0.\n",
    "for modifier, hs in enumerate(heads, start=1):\n",
    "    for h in hs:\n",
    "        print(h, \"==>\", modifier)\n",
    "        indices.append((h, modifier))\n",
    "\n",
    "print(indices)"
   ]
  },
  {
   "cell_type": "code",
   "execution_count": 72,
   "metadata": {},
   "outputs": [],
   "source": [
    "rooted_sentence = ['root'] + double_sentence\n",
    "padded_tensor = np.full([len(rooted_sentence), len(rooted_sentence)], -1)\n",
    "for index in indices:\n",
    "    padded_tensor[index] = 1"
   ]
  },
  {
   "cell_type": "code",
   "execution_count": 73,
   "metadata": {},
   "outputs": [
    {
     "data": {
      "image/png": "[encoded data removed]",
      "text/plain": [
       "<matplotlib.figure.Figure at 0x7f967dae0c88>"
      ]
     },
     "metadata": {},
     "output_type": "display_data"
    }
   ],
   "source": [
    "plot_heatmap(padded_tensor, rooted_sentence)"
   ]
  },
  {
   "cell_type": "code",
   "execution_count": null,
   "metadata": {
    "collapsed": true
   },
   "outputs": [],
   "source": []
  }
 ],
 "metadata": {
  "kernelspec": {
   "display_name": "Python 3",
   "language": "python",
   "name": "python3"
  },
  "language_info": {
   "codemirror_mode": {
    "name": "ipython",
    "version": 3
   },
   "file_extension": ".py",
   "mimetype": "text/x-python",
   "name": "python",
   "nbconvert_exporter": "python",
   "pygments_lexer": "ipython3",
   "version": "3.6.3"
  }
 },
 "nbformat": 4,
 "nbformat_minor": 2
}
