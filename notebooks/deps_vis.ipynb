{
 "cells": [
  {
   "cell_type": "code",
   "execution_count": 1,
   "metadata": {},
   "outputs": [],
   "source": [
    "from typing import Dict, Union, Sequence, Set, Optional, cast, List\n",
    "import logging\n",
    "\n",
    "from overrides import overrides\n",
    "from conllu import parse_incr\n",
    "from itertools import chain\n",
    "\n",
    "from allennlp.common.file_utils import cached_path\n",
    "from allennlp.data.dataset_readers.dataset_reader import DatasetReader\n",
    "from allennlp.data.fields import Field, TextField, SequenceLabelField, MetadataField\n",
    "from allennlp.data.instance import Instance\n",
    "from allennlp.data.token_indexers import SingleIdTokenIndexer, TokenIndexer\n",
    "from allennlp.data.tokenizers import Token, Tokenizer"
   ]
  },
  {
   "cell_type": "code",
   "execution_count": null,
   "metadata": {},
   "outputs": [],
   "source": [
    "words = ['The', 'team', 'who', 'work', 'there', 'are', 'helpfull', ',', 'friendly', 'and', 'extremely', 'knowledgeable', 'and', 'will', 'help', 'you', 'as', 'much', 'as', 'they', 'can', 'with', 'thier', 'years', 'of', 'hands', 'on', 'practice', '.']\n",
    "pos = ['DET','NOUN','PRON','VERB','ADV','AUX','ADJ','PUNCT''ADJ','CCONJ','ADV','ADJ','CCONJ,''AUX','VERB','PRON','ADV','ADV','SCONJ','PRON','AUX','ADP','PRON','NOUN','ADP','NOUN''ADV','NOUN','PUNCT']\n",
    "head_ids = [2, 7, 4, 2, 4, 7, 0, 9, 7, 12, 12, 7, 15, 15, 7, 15, 18, 15, 21, 21, 17, 24, 24, 15, 28, 28, 26, 24, 7]\n",
    "deps = [[('det', 2)], [('nsubj', 4), ('nsubj', 7), ('nsubj', 9), ('nsubj', 12), ('nsubj', 15)], [('ref', 2)], [('acl:relcl', 2)], [('advmod', 4)], [('cop', 7)], [('root', 0)], [('punct', 9)], [('conj:and', 7)], [('cc', 12)], [('advmod', 12)], [('conj:and', 7)], [('cc', 15)], [('aux', 15)], [('conj:and', 7)], [('obj', 15)], [('advmod', 18)], [('advmod', 15)], [('mark', 21)], [('nsubj', 21)], [('advcl:as', 17)], [('case', 24)], [('nmod:poss', 24)], [('obl:with', 15)], [('case', 28)], [('compound', 28)], [('compound', 26)], [('nmod:of', 24)], [('punct', 7)]]"
   ]
  },
  {
   "cell_type": "code",
   "execution_count": null,
   "metadata": {},
   "outputs": [],
   "source": [
    "words = ['The', 'situation', 'in', 'Iraq', 'is', 'only', 'going', 'to', 'get', 'better', 'this', 'way', '.']\n",
    "tags =  ['det', 'nsubj', 'case', 'nmod', 'aux', 'advmod', 'root', 'mark', 'xcomp', 'xcomp', 'det', 'obj', 'punct']\n",
    "heads = [2, 7, 4, 2, 7, 7, 0, 9, 7, 9, 12, 10, 7]\n",
    "deps = [[('det', 2)], [('nsubj', 7), ('nsubj:xsubj', 9), ('nsubj:xsubj', 10)], [('case', 4)], [('nmod:in', 2)], [('aux', 7)], [('advmod', 7)], [('root', 0)], [('mark', 9)], '7:xcomp _', '9:xcomp _', [('det', 12)], [('obj', 10)], '7:punct _']"
   ]
  },
  {
   "cell_type": "code",
   "execution_count": null,
   "metadata": {},
   "outputs": [],
   "source": [
    "words = ['Over', '300', 'Iraqis', 'are', 'reported', 'dead', 'and', '500', 'reported', 'wounded', 'in', 'Fallujah', 'alone', '.']\n",
    "pos = ['ADV', 'NUM', 'PROPN', 'AUX', 'VERB', 'ADJ', 'CCONJ', 'NUM', 'VERB', 'ADJ', 'ADP', 'PROPN', 'ADV','PUNCT']\n",
    "head_tags = [['advmod'], ['nummod'], ['nsubj:pass', 'nsubj:xsubj', 'nsubj:pass'], ['aux:pass'], ['root'], ['xcomp'], ['cc', 'cc'], ['conj:and', 'nsubj:pass', 'nsubj:xsubj'], ['conj:and'], ['xcomp'], ['case'], ['obl:in'], ['advmod'], ['punct']]\n",
    "head_indices = [[2], [3], [5, 6, 8], [5], [0], [5], [8, (8, '.', 1)], [5, (8, '.', 1), 9], [5], [(8, '.', 1)], [11], [5], [11], [5]]"
   ]
  },
  {
   "cell_type": "code",
   "execution_count": 2,
   "metadata": {},
   "outputs": [],
   "source": [
    "words = ['Over', '300', 'Iraqis', 'are', 'reported', 'dead', 'and', '500', 'reported', 'wounded', 'in', 'Fallujah', 'alone', '.']\n",
    "pos_tags = ['ADV', 'NUM', 'PROPN', 'AUX', 'VERB', 'ADJ', 'CCONJ', 'NUM', 'VERB', 'ADJ', 'ADP', 'PROPN', 'ADV', 'PUNCT']\n",
    "dependencies = [('advmod', 2), ('nummod', 3), ('nsubj:pass', 5), ('aux:pass', 5), ('root', 0), ('xcomp', 5), ('cc', 8), ('conj', 5), ('_', None), ('orphan', 8), ('case', 11), ('obl', 5), ('advmod', 11), ('punct', 5)]\n",
    "deps = [[('advmod', 2)], [('nummod', 3)], [('nsubj:pass', 5), ('nsubj:xsubj', 6), ('nsubj:pass', 8)], [('aux:pass', 5)], [('root', 0)], [('xcomp', 5)], [('cc', 8), ('cc', (8, '.', 1))], [('conj:and', 5), ('nsubj:pass', (8, '.', 1)), ('nsubj:xsubj', 9)], [('conj:and', 5)], [('xcomp', (8, '.', 1))], [('case', 11)], [('obl:in', 5)], [('advmod', 11)], [('punct', 5)]]\n"
   ]
  },
  {
   "cell_type": "code",
   "execution_count": 7,
   "metadata": {},
   "outputs": [],
   "source": [
    "orig = dependencies\n",
    "#[('det', 2), ('nsubj', 7), ('nsubj', 4), ('acl:relcl', 2), ('advmod', 4), ('cop', 7), ('root', 0), ('punct', 9), ('conj', 7), ('cc', 12), ('advmod', 12), ('conj', 7), ('cc', 15), ('aux', 15), ('conj', 7), ('obj', 15), ('advmod', 18), ('advmod', 15), ('mark', 21), ('nsubj', 21), ('advcl', 17), ('case', 24), ('nmod:poss', 24), ('obl', 15), ('case', 28), ('compound', 28), ('compound', 26), ('nmod', 24), ('punct', 7)]\n",
    "\n",
    "#deps\n",
    "#[[('det', 2)], [('nsubj', 4), ('nsubj', 7), ('nsubj', 9), ('nsubj', 12), ('nsubj', 15)], [('ref', 2)], [('acl:relcl', 2)], [('advmod', 4)], [('cop', 7)], [('root', 0)], [('punct', 9)], [('conj:and', 7)], [('cc', 12)], [('advmod', 12)], [('conj:and', 7)], [('cc', 15)], [('aux', 15)], [('conj:and', 7)], [('obj', 15)], [('advmod', 18)], [('advmod', 15)], [('mark', 21)], [('nsubj', 21)], [('advcl:as', 17)], [('case', 24)], [('nmod:poss', 24)], [('obl:with', 15)], [('case', 28)], [('compound', 28)], [('compound', 26)], [('nmod:of', 24)], [('punct', 7)]]"
   ]
  },
  {
   "cell_type": "code",
   "execution_count": 5,
   "metadata": {},
   "outputs": [
    {
     "data": {
      "text/plain": [
       "[('advmod', 2),\n",
       " ('nummod', 3),\n",
       " ('nsubj:pass', 5),\n",
       " ('aux:pass', 5),\n",
       " ('root', 0),\n",
       " ('xcomp', 5),\n",
       " ('cc', 8),\n",
       " ('conj', 5),\n",
       " ('_', None),\n",
       " ('orphan', 8),\n",
       " ('case', 11),\n",
       " ('obl', 5),\n",
       " ('advmod', 11),\n",
       " ('punct', 5)]"
      ]
     },
     "execution_count": 5,
     "metadata": {},
     "output_type": "execute_result"
    }
   ],
   "source": [
    "orig"
   ]
  },
  {
   "cell_type": "code",
   "execution_count": 6,
   "metadata": {},
   "outputs": [
    {
     "data": {
      "text/plain": [
       "[[('advmod', 2)],\n",
       " [('nummod', 3)],\n",
       " [('nsubj:pass', 5), ('nsubj:xsubj', 6), ('nsubj:pass', 8)],\n",
       " [('aux:pass', 5)],\n",
       " [('root', 0)],\n",
       " [('xcomp', 5)],\n",
       " [('cc', 8), ('cc', (8, '.', 1))],\n",
       " [('conj:and', 5), ('nsubj:pass', (8, '.', 1)), ('nsubj:xsubj', 9)],\n",
       " [('conj:and', 5)],\n",
       " [('xcomp', (8, '.', 1))],\n",
       " [('case', 11)],\n",
       " [('obl:in', 5)],\n",
       " [('advmod', 11)],\n",
       " [('punct', 5)]]"
      ]
     },
     "execution_count": 6,
     "metadata": {},
     "output_type": "execute_result"
    }
   ],
   "source": [
    "deps"
   ]
  },
  {
   "cell_type": "code",
   "execution_count": 65,
   "metadata": {},
   "outputs": [],
   "source": [
    "##1 NORMAL\n",
    "\n",
    "heads = []\n",
    "rels = []\n",
    "\n",
    "for target_output in deps:\n",
    "    # check if there is just 1 head\n",
    "    if len(target_output) == 1:\n",
    "        head = [x[1] for x in target_output]\n",
    "        rel = [x[0] for x in target_output]\n",
    "        heads.append(head)\n",
    "        rels.append(rel)\n",
    "    # more than 1 head\n",
    "    else:\n",
    "        # append all current target heads/rels to a list\n",
    "        current_heads = []\n",
    "        current_rels = []\n",
    "        for rel_head_tup in target_output:\n",
    "            current_heads.append(rel_head_tup[1])\n",
    "            current_rels.append(rel_head_tup[0])\n",
    "        heads.append(current_heads)\n",
    "        rels.append(current_rels)"
   ]
  },
  {
   "cell_type": "code",
   "execution_count": 66,
   "metadata": {},
   "outputs": [
    {
     "data": {
      "text/plain": [
       "[[2],\n",
       " [3],\n",
       " [5, 6, 8],\n",
       " [5],\n",
       " [0],\n",
       " [5],\n",
       " [8, (8, '.', 1)],\n",
       " [5, (8, '.', 1), 9],\n",
       " [5],\n",
       " [(8, '.', 1)],\n",
       " [11],\n",
       " [5],\n",
       " [11],\n",
       " [5]]"
      ]
     },
     "execution_count": 66,
     "metadata": {},
     "output_type": "execute_result"
    }
   ],
   "source": [
    "heads"
   ]
  },
  {
   "cell_type": "code",
   "execution_count": 67,
   "metadata": {},
   "outputs": [
    {
     "data": {
      "text/plain": [
       "[['advmod'],\n",
       " ['nummod'],\n",
       " ['nsubj:pass', 'nsubj:xsubj', 'nsubj:pass'],\n",
       " ['aux:pass'],\n",
       " ['root'],\n",
       " ['xcomp'],\n",
       " ['cc', 'cc'],\n",
       " ['conj:and', 'nsubj:pass', 'nsubj:xsubj'],\n",
       " ['conj:and'],\n",
       " ['xcomp'],\n",
       " ['case'],\n",
       " ['obl:in'],\n",
       " ['advmod'],\n",
       " ['punct']]"
      ]
     },
     "execution_count": 67,
     "metadata": {},
     "output_type": "execute_result"
    }
   ],
   "source": [
    "rels"
   ]
  },
  {
   "cell_type": "code",
   "execution_count": 44,
   "metadata": {},
   "outputs": [
    {
     "data": {
      "text/plain": [
       "[[2], [3], [5], [0], [5], [5], [(8, '.', 1)], [11], [5], [11], [5]]"
      ]
     },
     "execution_count": 44,
     "metadata": {},
     "output_type": "execute_result"
    }
   ],
   "source": [
    "heads"
   ]
  },
  {
   "cell_type": "code",
   "execution_count": 14,
   "metadata": {},
   "outputs": [
    {
     "data": {
      "text/plain": [
       "[['advmod'],\n",
       " ['nummod'],\n",
       " ['aux:pass'],\n",
       " ['root'],\n",
       " ['xcomp'],\n",
       " ['conj:and'],\n",
       " ['xcomp'],\n",
       " ['case'],\n",
       " ['obl:in'],\n",
       " ['advmod'],\n",
       " ['punct']]"
      ]
     },
     "execution_count": 14,
     "metadata": {},
     "output_type": "execute_result"
    }
   ],
   "source": [
    "rels"
   ]
  },
  {
   "cell_type": "code",
   "execution_count": 122,
   "metadata": {},
   "outputs": [],
   "source": [
    "# process the elided tokens\n",
    "processed_heads = []\n",
    "\n",
    "for head_list in heads:\n",
    "    # keep a list-of-lists format\n",
    "    current_heads = []\n",
    "    for head in head_list:\n",
    "        # convert copy node tuples: (8, '.', 1) to float: 8.1\n",
    "        if type(head) == tuple:\n",
    "            copy_node = list(head)\n",
    "            # join the values in the tuple\n",
    "            copy_node = str(head[0]) + '.' + str(head[-1])   \n",
    "            copy_node = float(copy_node)\n",
    "            current_heads.append(copy_node)\n",
    "        else:\n",
    "            # regular head index\n",
    "            current_heads.append(head)\n",
    "\n",
    "    processed_heads.append(current_heads)\n"
   ]
  },
  {
   "cell_type": "code",
   "execution_count": 123,
   "metadata": {},
   "outputs": [
    {
     "data": {
      "text/plain": [
       "[[2],\n",
       " [3],\n",
       " [5, 6, 8],\n",
       " [5],\n",
       " [0],\n",
       " [5],\n",
       " [8, (8, '.', 1)],\n",
       " [5, (8, '.', 1), 9],\n",
       " [5],\n",
       " [(8, '.', 1)],\n",
       " [11],\n",
       " [5],\n",
       " [11],\n",
       " [5]]"
      ]
     },
     "execution_count": 123,
     "metadata": {},
     "output_type": "execute_result"
    }
   ],
   "source": [
    "heads"
   ]
  },
  {
   "cell_type": "code",
   "execution_count": 125,
   "metadata": {},
   "outputs": [
    {
     "data": {
      "text/plain": [
       "[[2],\n",
       " [3],\n",
       " [5, 6, 8],\n",
       " [5],\n",
       " [0],\n",
       " [5],\n",
       " [8, 8.1],\n",
       " [5, 8.1, 9],\n",
       " [5],\n",
       " [8.1],\n",
       " [11],\n",
       " [5],\n",
       " [11],\n",
       " [5]]"
      ]
     },
     "execution_count": 125,
     "metadata": {},
     "output_type": "execute_result"
    }
   ],
   "source": [
    "processed_heads"
   ]
  },
  {
   "cell_type": "code",
   "execution_count": 126,
   "metadata": {},
   "outputs": [
    {
     "name": "stdout",
     "output_type": "stream",
     "text": [
      "14\n",
      "14\n",
      "14\n"
     ]
    }
   ],
   "source": [
    "print(len(words))\n",
    "print(len(heads))\n",
    "print(len(processed_heads))"
   ]
  },
  {
   "cell_type": "code",
   "execution_count": 121,
   "metadata": {},
   "outputs": [],
   "source": [
    "assert len(words) == len(heads) == len(procesed_heads)"
   ]
  },
  {
   "cell_type": "code",
   "execution_count": null,
   "metadata": {},
   "outputs": [],
   "source": [
    "##1 NORMAL\n",
    "\n",
    "heads = []\n",
    "rels = []\n",
    "\n",
    "for target_output in deps:\n",
    "    # check if there is just 1 head\n",
    "    if len(target_output) == 1:\n",
    "        head = [x[1] for x in target_output]\n",
    "        rel = [x[0] for x in target_output]\n",
    "        heads.append(head)\n",
    "        rels.append(rel)\n",
    "    # more than 1 head\n",
    "    else:\n",
    "        # append all current target heads/rels to a list\n",
    "        current_heads = []\n",
    "        current_rels = []\n",
    "        for rel_head_tup in target_output:\n",
    "            current_heads.append(rel_head_tup[1])\n",
    "            current_rels.append(rel_head_tup[0])\n",
    "        heads.append(current_heads)\n",
    "        rels.append(current_rels)"
   ]
  },
  {
   "cell_type": "code",
   "execution_count": null,
   "metadata": {},
   "outputs": [],
   "source": [
    "##1\n",
    "\n",
    "heads = []\n",
    "rels = []\n",
    "\n",
    "for target_output in deps:\n",
    "    #print(target_output)\n",
    "    # check if there is just 1 head\n",
    "    if len(target_output) == 1:\n",
    "        #head = [x[1] for x in target_output]\n",
    "        # 0 = tuple, 1 is head (2nd elem of tuple)\n",
    "        head = target_output[0][1]\n",
    "        #print(head)\n",
    "    #    rel = [x[0] for x in target_output]\n",
    "        heads.append(head)\n",
    "    #    rels.append(rel)\n",
    "    # more than 1 head\n",
    "    else:\n",
    "        # append all current target heads/rels to a list\n",
    "        current_heads = []\n",
    "    #    current_rels = []\n",
    "        print(target_output)\n",
    "        for rel_head_tup in target_output:\n",
    "            #print(rel_head_tup)\n",
    "\n",
    "            current_heads.append(rel_head_tup[1])\n",
    "    #        current_rels.append(rel_head_tup[0])\n",
    "        hz = \"+\".join(str(h) for h in current_heads)\n",
    "        heads.append(hz)\n",
    "    #    rels.append(current_rels)"
   ]
  },
  {
   "cell_type": "code",
   "execution_count": null,
   "metadata": {},
   "outputs": [],
   "source": [
    "heads\n",
    "#rels"
   ]
  },
  {
   "cell_type": "code",
   "execution_count": null,
   "metadata": {},
   "outputs": [],
   "source": [
    "##2\n",
    "#labels : ``Union[List[str], List[int]]``\n",
    "\n",
    "heads = []\n",
    "rels = []\n",
    "\n",
    "for target_output in deps:\n",
    "    # check if there is just 1 head\n",
    "    if len(target_output) == 1:\n",
    "        head = [x[1] for x in target_output]\n",
    "        rel = [x[0] for x in target_output]\n",
    "        heads.append(head)\n",
    "        rels.append(rel)\n",
    "    # more than 1 head\n",
    "    else:\n",
    "        # append all current target heads/rels to a list\n",
    "        current_heads = []\n",
    "        current_rels = []\n",
    "        for rel_head_tup in target_output:\n",
    "            current_heads.append(rel_head_tup[1])\n",
    "            current_rels.append(rel_head_tup[0])\n",
    "        heads.append(current_heads)\n",
    "        rels.append(current_rels)"
   ]
  },
  {
   "cell_type": "code",
   "execution_count": null,
   "metadata": {},
   "outputs": [],
   "source": [
    "deps = list(zip(head_tags, head_indices))"
   ]
  },
  {
   "cell_type": "code",
   "execution_count": null,
   "metadata": {
    "scrolled": true
   },
   "outputs": [],
   "source": [
    "# maybe add a copy embedding? (bad at test time)\n",
    "for i, w in enumerate(words):\n",
    "    print(w, \"==>\", deps[i])"
   ]
  },
  {
   "cell_type": "code",
   "execution_count": null,
   "metadata": {},
   "outputs": [],
   "source": [
    "head_indices"
   ]
  },
  {
   "cell_type": "code",
   "execution_count": null,
   "metadata": {},
   "outputs": [],
   "source": [
    "for x in head_indices:\n",
    "    print(x)"
   ]
  },
  {
   "cell_type": "code",
   "execution_count": null,
   "metadata": {},
   "outputs": [],
   "source": [
    "print(head_indices)"
   ]
  },
  {
   "cell_type": "code",
   "execution_count": null,
   "metadata": {},
   "outputs": [],
   "source": [
    "# process the elided tokens\n",
    "for x in head_indices:\n",
    "    #print(x)\n",
    "    #print(type(x)) # - all lists\n",
    "    for y in x:\n",
    "        #print(y)\n",
    "        #print(type(y))\n",
    "        if type(y) == tuple:\n",
    "            z = list(y)\n",
    "            z = str(y[0]) + '.' + str(y[-1])\n",
    "            y = z\n",
    "            #print(head_indices[y])\n",
    "            #head_indices[y] = z\n",
    "            #head\n",
    "                "
   ]
  },
  {
   "cell_type": "code",
   "execution_count": null,
   "metadata": {},
   "outputs": [],
   "source": [
    "print(head_indices[0])"
   ]
  },
  {
   "cell_type": "code",
   "execution_count": null,
   "metadata": {},
   "outputs": [],
   "source": [
    "head_ids = list(chain.from_iterable(heads))\n",
    "head_ids"
   ]
  },
  {
   "cell_type": "code",
   "execution_count": null,
   "metadata": {},
   "outputs": [],
   "source": [
    "a = [x for x in heads]\n",
    "a"
   ]
  },
  {
   "cell_type": "code",
   "execution_count": null,
   "metadata": {},
   "outputs": [],
   "source": [
    "targs = list(zip(heads, rels))\n",
    "targs"
   ]
  },
  {
   "cell_type": "code",
   "execution_count": null,
   "metadata": {},
   "outputs": [],
   "source": [
    "yo = [x[0] for x in heads]\n",
    "yo"
   ]
  },
  {
   "cell_type": "code",
   "execution_count": null,
   "metadata": {},
   "outputs": [],
   "source": [
    "for i, w in enumerate(words):\n",
    "    print(w, \",\", pos[i], \"==>\", head_ids[i])"
   ]
  },
  {
   "cell_type": "code",
   "execution_count": null,
   "metadata": {
    "scrolled": true
   },
   "outputs": [],
   "source": [
    "for i, w in enumerate(words):\n",
    "    print(w, \",\", pos[i], \"==>\", heads[i])"
   ]
  },
  {
   "cell_type": "code",
   "execution_count": null,
   "metadata": {},
   "outputs": [],
   "source": [
    "print(heads)"
   ]
  },
  {
   "cell_type": "code",
   "execution_count": null,
   "metadata": {},
   "outputs": [],
   "source": [
    "w_i = \"team\"\n",
    "h_i = [4, 7, 9, 12, 15]\n",
    "r_i = ['nsubj', 'nsubj', 'nsubj', 'nsubj', 'nsubj']"
   ]
  },
  {
   "cell_type": "code",
   "execution_count": null,
   "metadata": {},
   "outputs": [],
   "source": [
    "pred = list(zip(h_i, r_i))\n",
    "pred"
   ]
  },
  {
   "cell_type": "code",
   "execution_count": null,
   "metadata": {},
   "outputs": [],
   "source": [
    "heads"
   ]
  },
  {
   "cell_type": "code",
   "execution_count": null,
   "metadata": {},
   "outputs": [],
   "source": [
    "print(w_i, pred)"
   ]
  },
  {
   "cell_type": "code",
   "execution_count": null,
   "metadata": {},
   "outputs": [],
   "source": [
    "List[List]"
   ]
  },
  {
   "cell_type": "code",
   "execution_count": null,
   "metadata": {},
   "outputs": [],
   "source": [
    "fields: Dict[str, Field] = {}\n",
    "fields"
   ]
  },
  {
   "cell_type": "code",
   "execution_count": null,
   "metadata": {},
   "outputs": [],
   "source": [
    "## See : https://allenai.github.io/allennlp-docs/api/data/fields/multilabel_field/\n",
    "# https://github.com/allenai/allennlp/pull/1054\n",
    "# https://github.com/allenai/allennlp/pull/1054/commits/8f576a74d9ecf5fc817a0ca9c9f303fc400e58d6\n",
    "# https://github.com/allenai/allennlp/blob/master/allennlp/data/fields/multilabel_field.py"
   ]
  },
  {
   "cell_type": "code",
   "execution_count": null,
   "metadata": {},
   "outputs": [],
   "source": [
    "# fields pos {pos: a, b c d}\n",
    "# fields heads {heads: [a, b, c], [a], [b]}"
   ]
  },
  {
   "cell_type": "code",
   "execution_count": null,
   "metadata": {},
   "outputs": [],
   "source": [
    "d['a'] = 100  # existing key, so overwrite\n",
    "d['c'] = 3  # new key, so add\n",
    "d['d'] = 4"
   ]
  },
  {
   "cell_type": "code",
   "execution_count": null,
   "metadata": {},
   "outputs": [],
   "source": [
    "d = {}"
   ]
  },
  {
   "cell_type": "code",
   "execution_count": null,
   "metadata": {},
   "outputs": [],
   "source": [
    "a = [[1,2,3],[3,2,1],[6, 6, 6]]"
   ]
  },
  {
   "cell_type": "code",
   "execution_count": null,
   "metadata": {},
   "outputs": [],
   "source": [
    "for letter in a:\n",
    "    #print(letter)\n",
    "    d[\"loss\"] = a"
   ]
  },
  {
   "cell_type": "code",
   "execution_count": null,
   "metadata": {},
   "outputs": [],
   "source": [
    "d"
   ]
  },
  {
   "cell_type": "code",
   "execution_count": null,
   "metadata": {},
   "outputs": [],
   "source": [
    "x ={}"
   ]
  },
  {
   "cell_type": "code",
   "execution_count": null,
   "metadata": {},
   "outputs": [],
   "source": [
    "x[\"loss\"]"
   ]
  },
  {
   "cell_type": "code",
   "execution_count": null,
   "metadata": {},
   "outputs": [],
   "source": []
  }
 ],
 "metadata": {
  "kernelspec": {
   "display_name": "Python 3",
   "language": "python",
   "name": "python3"
  },
  "language_info": {
   "codemirror_mode": {
    "name": "ipython",
    "version": 3
   },
   "file_extension": ".py",
   "mimetype": "text/x-python",
   "name": "python",
   "nbconvert_exporter": "python",
   "pygments_lexer": "ipython3",
   "version": "3.7.5"
  }
 },
 "nbformat": 4,
 "nbformat_minor": 4
}
