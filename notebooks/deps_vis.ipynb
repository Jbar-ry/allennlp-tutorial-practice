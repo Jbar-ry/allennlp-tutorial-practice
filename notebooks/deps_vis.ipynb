{
 "cells": [
  {
   "cell_type": "code",
   "execution_count": 21,
   "metadata": {},
   "outputs": [],
   "source": [
    "from typing import Dict, Tuple, List\n",
    "import logging\n",
    "\n",
    "from overrides import overrides\n",
    "from conllu import parse_incr\n",
    "\n",
    "from allennlp.common.file_utils import cached_path\n",
    "from allennlp.data.dataset_readers.dataset_reader import DatasetReader\n",
    "from allennlp.data.fields import Field, TextField, SequenceLabelField, MetadataField\n",
    "from allennlp.data.instance import Instance\n",
    "from allennlp.data.token_indexers import SingleIdTokenIndexer, TokenIndexer\n",
    "from allennlp.data.tokenizers import Token, Tokenizer"
   ]
  },
  {
   "cell_type": "code",
   "execution_count": 13,
   "metadata": {},
   "outputs": [],
   "source": [
    "words = ['The', 'team', 'who', 'work', 'there', 'are', 'helpfull', ',', 'friendly', 'and', 'extremely', 'knowledgeable', 'and', 'will', 'help', 'you', 'as', 'much', 'as', 'they', 'can', 'with', 'thier', 'years', 'of', 'hands', 'on', 'practice', '.']\n",
    "tags = ['det', 'nsubj', 'nsubj', 'acl:relcl', 'advmod', 'cop', 'root', 'punct', 'conj', 'cc', 'advmod', 'conj', 'cc', 'aux', 'conj', 'obj', 'advmod', 'advmod', 'mark', 'nsubj', 'advcl', 'case', 'nmod:poss', 'obl', 'case', 'compound', 'compound', 'nmod', 'punct']\n",
    "heads = [2, 7, 4, 2, 4, 7, 0, 9, 7, 12, 12, 7, 15, 15, 7, 15, 18, 15, 21, 21, 17, 24, 24, 15, 28, 28, 26, 24, 7]\n",
    "deps = [[('det', 2)], [('nsubj', 4), ('nsubj', 7), ('nsubj', 9), ('nsubj', 12), ('nsubj', 15)], [('ref', 2)], [('acl:relcl', 2)], [('advmod', 4)], [('cop', 7)], [('root', 0)], [('punct', 9)], [('conj:and', 7)], [('cc', 12)], [('advmod', 12)], [('conj:and', 7)], [('cc', 15)], [('aux', 15)], [('conj:and', 7)], [('obj', 15)], [('advmod', 18)], [('advmod', 15)], [('mark', 21)], [('nsubj', 21)], [('advcl:as', 17)], [('case', 24)], [('nmod:poss', 24)], [('obl:with', 15)], [('case', 28)], [('compound', 28)], [('compound', 26)], [('nmod:of', 24)], [('punct', 7)]]"
   ]
  },
  {
   "cell_type": "code",
   "execution_count": 14,
   "metadata": {},
   "outputs": [],
   "source": [
    "orig = list(zip(tags, heads))\n",
    "#[('det', 2), ('nsubj', 7), ('nsubj', 4), ('acl:relcl', 2), ('advmod', 4), ('cop', 7), ('root', 0), ('punct', 9), ('conj', 7), ('cc', 12), ('advmod', 12), ('conj', 7), ('cc', 15), ('aux', 15), ('conj', 7), ('obj', 15), ('advmod', 18), ('advmod', 15), ('mark', 21), ('nsubj', 21), ('advcl', 17), ('case', 24), ('nmod:poss', 24), ('obl', 15), ('case', 28), ('compound', 28), ('compound', 26), ('nmod', 24), ('punct', 7)]\n",
    "\n",
    "enhanced = deps\n",
    "#[[('det', 2)], [('nsubj', 4), ('nsubj', 7), ('nsubj', 9), ('nsubj', 12), ('nsubj', 15)], [('ref', 2)], [('acl:relcl', 2)], [('advmod', 4)], [('cop', 7)], [('root', 0)], [('punct', 9)], [('conj:and', 7)], [('cc', 12)], [('advmod', 12)], [('conj:and', 7)], [('cc', 15)], [('aux', 15)], [('conj:and', 7)], [('obj', 15)], [('advmod', 18)], [('advmod', 15)], [('mark', 21)], [('nsubj', 21)], [('advcl:as', 17)], [('case', 24)], [('nmod:poss', 24)], [('obl:with', 15)], [('case', 28)], [('compound', 28)], [('compound', 26)], [('nmod:of', 24)], [('punct', 7)]]"
   ]
  },
  {
   "cell_type": "code",
   "execution_count": 15,
   "metadata": {},
   "outputs": [
    {
     "data": {
      "text/plain": [
       "[[('det', 2)],\n",
       " [('nsubj', 4), ('nsubj', 7), ('nsubj', 9), ('nsubj', 12), ('nsubj', 15)],\n",
       " [('ref', 2)],\n",
       " [('acl:relcl', 2)],\n",
       " [('advmod', 4)],\n",
       " [('cop', 7)],\n",
       " [('root', 0)],\n",
       " [('punct', 9)],\n",
       " [('conj:and', 7)],\n",
       " [('cc', 12)],\n",
       " [('advmod', 12)],\n",
       " [('conj:and', 7)],\n",
       " [('cc', 15)],\n",
       " [('aux', 15)],\n",
       " [('conj:and', 7)],\n",
       " [('obj', 15)],\n",
       " [('advmod', 18)],\n",
       " [('advmod', 15)],\n",
       " [('mark', 21)],\n",
       " [('nsubj', 21)],\n",
       " [('advcl:as', 17)],\n",
       " [('case', 24)],\n",
       " [('nmod:poss', 24)],\n",
       " [('obl:with', 15)],\n",
       " [('case', 28)],\n",
       " [('compound', 28)],\n",
       " [('compound', 26)],\n",
       " [('nmod:of', 24)],\n",
       " [('punct', 7)]]"
      ]
     },
     "execution_count": 15,
     "metadata": {},
     "output_type": "execute_result"
    }
   ],
   "source": [
    "enhanced"
   ]
  },
  {
   "cell_type": "code",
   "execution_count": null,
   "metadata": {},
   "outputs": [],
   "source": []
  },
  {
   "cell_type": "code",
   "execution_count": 75,
   "metadata": {},
   "outputs": [],
   "source": [
    "heads = []\n",
    "rels = []\n",
    "\n",
    "for target_output in deps:\n",
    "    # check if there is just 1 head\n",
    "    if len(target_output) == 1:\n",
    "        head = [x[1] for x in target_output]\n",
    "        rel = [x[0] for x in target_output]\n",
    "        heads.append(head)\n",
    "        rels.append(rel)\n",
    "    # more than 1 head\n",
    "    else:\n",
    "        # append all current target heads/rels to a list\n",
    "        current_heads = []\n",
    "        current_rels = []\n",
    "        for rel_head_tup in target_output:\n",
    "            current_heads.append(rel_head_tup[1])\n",
    "            current_rels.append(rel_head_tup[0])\n",
    "        heads.append(current_heads)\n",
    "        rels.append(current_rels)"
   ]
  },
  {
   "cell_type": "code",
   "execution_count": 76,
   "metadata": {},
   "outputs": [
    {
     "name": "stdout",
     "output_type": "stream",
     "text": [
      "[2] ==> ['det']\n",
      "[4, 7, 9, 12, 15] ==> ['nsubj', 'nsubj', 'nsubj', 'nsubj', 'nsubj']\n",
      "[2] ==> ['ref']\n",
      "[2] ==> ['acl:relcl']\n",
      "[4] ==> ['advmod']\n",
      "[7] ==> ['cop']\n",
      "[0] ==> ['root']\n",
      "[9] ==> ['punct']\n",
      "[7] ==> ['conj:and']\n",
      "[12] ==> ['cc']\n",
      "[12] ==> ['advmod']\n",
      "[7] ==> ['conj:and']\n",
      "[15] ==> ['cc']\n",
      "[15] ==> ['aux']\n",
      "[7] ==> ['conj:and']\n",
      "[15] ==> ['obj']\n",
      "[18] ==> ['advmod']\n",
      "[15] ==> ['advmod']\n",
      "[21] ==> ['mark']\n",
      "[21] ==> ['nsubj']\n",
      "[17] ==> ['advcl:as']\n",
      "[24] ==> ['case']\n",
      "[24] ==> ['nmod:poss']\n",
      "[15] ==> ['obl:with']\n",
      "[28] ==> ['case']\n",
      "[28] ==> ['compound']\n",
      "[26] ==> ['compound']\n",
      "[24] ==> ['nmod:of']\n",
      "[7] ==> ['punct']\n"
     ]
    }
   ],
   "source": [
    "for h, r in list(zip(heads, rels)):\n",
    "    print(h, \"==>\", r)"
   ]
  },
  {
   "cell_type": "code",
   "execution_count": 81,
   "metadata": {},
   "outputs": [
    {
     "data": {
      "text/plain": [
       "[([2], ['det']),\n",
       " ([4, 7, 9, 12, 15], ['nsubj', 'nsubj', 'nsubj', 'nsubj', 'nsubj']),\n",
       " ([2], ['ref']),\n",
       " ([2], ['acl:relcl']),\n",
       " ([4], ['advmod']),\n",
       " ([7], ['cop']),\n",
       " ([0], ['root']),\n",
       " ([9], ['punct']),\n",
       " ([7], ['conj:and']),\n",
       " ([12], ['cc']),\n",
       " ([12], ['advmod']),\n",
       " ([7], ['conj:and']),\n",
       " ([15], ['cc']),\n",
       " ([15], ['aux']),\n",
       " ([7], ['conj:and']),\n",
       " ([15], ['obj']),\n",
       " ([18], ['advmod']),\n",
       " ([15], ['advmod']),\n",
       " ([21], ['mark']),\n",
       " ([21], ['nsubj']),\n",
       " ([17], ['advcl:as']),\n",
       " ([24], ['case']),\n",
       " ([24], ['nmod:poss']),\n",
       " ([15], ['obl:with']),\n",
       " ([28], ['case']),\n",
       " ([28], ['compound']),\n",
       " ([26], ['compound']),\n",
       " ([24], ['nmod:of']),\n",
       " ([7], ['punct'])]"
      ]
     },
     "execution_count": 81,
     "metadata": {},
     "output_type": "execute_result"
    }
   ],
   "source": [
    "targs = list(zip(heads, rels))\n",
    "targs"
   ]
  },
  {
   "cell_type": "code",
   "execution_count": 85,
   "metadata": {},
   "outputs": [
    {
     "name": "stdout",
     "output_type": "stream",
     "text": [
      "The ([2], ['det'])\n",
      "team ([4, 7, 9, 12, 15], ['nsubj', 'nsubj', 'nsubj', 'nsubj', 'nsubj'])\n",
      "who ([2], ['ref'])\n",
      "work ([2], ['acl:relcl'])\n",
      "there ([4], ['advmod'])\n",
      "are ([7], ['cop'])\n",
      "helpfull ([0], ['root'])\n",
      ", ([9], ['punct'])\n",
      "friendly ([7], ['conj:and'])\n",
      "and ([12], ['cc'])\n",
      "extremely ([12], ['advmod'])\n",
      "knowledgeable ([7], ['conj:and'])\n",
      "and ([15], ['cc'])\n",
      "will ([15], ['aux'])\n",
      "help ([7], ['conj:and'])\n",
      "you ([15], ['obj'])\n",
      "as ([18], ['advmod'])\n",
      "much ([15], ['advmod'])\n",
      "as ([21], ['mark'])\n",
      "they ([21], ['nsubj'])\n",
      "can ([17], ['advcl:as'])\n",
      "with ([24], ['case'])\n",
      "thier ([24], ['nmod:poss'])\n",
      "years ([15], ['obl:with'])\n",
      "of ([28], ['case'])\n",
      "hands ([28], ['compound'])\n",
      "on ([26], ['compound'])\n",
      "practice ([24], ['nmod:of'])\n",
      ". ([7], ['punct'])\n"
     ]
    }
   ],
   "source": [
    "for i, w in enumerate(words):\n",
    "    print(w, targs[i])"
   ]
  },
  {
   "cell_type": "code",
   "execution_count": 69,
   "metadata": {},
   "outputs": [],
   "source": [
    "#rels"
   ]
  },
  {
   "cell_type": "code",
   "execution_count": 18,
   "metadata": {},
   "outputs": [
    {
     "data": {
      "text/plain": [
       "typing.List[typing.List]"
      ]
     },
     "execution_count": 18,
     "metadata": {},
     "output_type": "execute_result"
    }
   ],
   "source": [
    "List[List]"
   ]
  },
  {
   "cell_type": "code",
   "execution_count": 22,
   "metadata": {},
   "outputs": [
    {
     "data": {
      "text/plain": [
       "{}"
      ]
     },
     "execution_count": 22,
     "metadata": {},
     "output_type": "execute_result"
    }
   ],
   "source": [
    "fields: Dict[str, Field] = {}\n",
    "fields"
   ]
  },
  {
   "cell_type": "code",
   "execution_count": null,
   "metadata": {},
   "outputs": [],
   "source": []
  }
 ],
 "metadata": {
  "kernelspec": {
   "display_name": "Python 3",
   "language": "python",
   "name": "python3"
  },
  "language_info": {
   "codemirror_mode": {
    "name": "ipython",
    "version": 3
   },
   "file_extension": ".py",
   "mimetype": "text/x-python",
   "name": "python",
   "nbconvert_exporter": "python",
   "pygments_lexer": "ipython3",
   "version": "3.7.5"
  }
 },
 "nbformat": 4,
 "nbformat_minor": 4
}
