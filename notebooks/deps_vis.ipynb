{
 "cells": [
  {
   "cell_type": "code",
   "execution_count": 1,
   "metadata": {},
   "outputs": [],
   "source": [
    "from typing import Dict, Union, Sequence, Set, Optional, cast, List\n",
    "import logging\n",
    "\n",
    "from overrides import overrides\n",
    "from conllu import parse_incr\n",
    "from itertools import chain\n",
    "\n",
    "from allennlp.common.file_utils import cached_path\n",
    "from allennlp.data.dataset_readers.dataset_reader import DatasetReader\n",
    "from allennlp.data.fields import Field, TextField, SequenceLabelField, MetadataField\n",
    "from allennlp.data.instance import Instance\n",
    "from allennlp.data.token_indexers import SingleIdTokenIndexer, TokenIndexer\n",
    "from allennlp.data.tokenizers import Token, Tokenizer"
   ]
  },
  {
   "cell_type": "code",
   "execution_count": 39,
   "metadata": {},
   "outputs": [],
   "source": [
    "words = ['The', 'team', 'who', 'work', 'there', 'are', 'helpfull', ',', 'friendly', 'and', 'extremely', 'knowledgeable', 'and', 'will', 'help', 'you', 'as', 'much', 'as', 'they', 'can', 'with', 'thier', 'years', 'of', 'hands', 'on', 'practice', '.']\n",
    "pos = ['DET',\n",
    "'NOUN',\n",
    "'PRON',\n",
    "'VERB',\n",
    "'ADV',\n",
    "'AUX',\n",
    "'ADJ',\n",
    "'PUNCT'\n",
    "'ADJ',\n",
    "'CCONJ',\n",
    "'ADV',\n",
    "'ADJ',\n",
    "'CCONJ,'\n",
    "'AUX',\n",
    "'VERB',\n",
    "'PRON',\n",
    "'ADV',\n",
    "'ADV',\n",
    "'SCONJ',\n",
    "'PRON',\n",
    "'AUX',\n",
    "'ADP',\n",
    "'PRON',\n",
    "'NOUN',\n",
    "'ADP',\n",
    "'NOUN'\n",
    "'ADV',\n",
    "'NOUN',\n",
    "'PUNCT'\n",
    "]\n",
    "head_ids = [2, 7, 4, 2, 4, 7, 0, 9, 7, 12, 12, 7, 15, 15, 7, 15, 18, 15, 21, 21, 17, 24, 24, 15, 28, 28, 26, 24, 7]\n",
    "deps = [[('det', 2)], [('nsubj', 4), ('nsubj', 7), ('nsubj', 9), ('nsubj', 12), ('nsubj', 15)], [('ref', 2)], [('acl:relcl', 2)], [('advmod', 4)], [('cop', 7)], [('root', 0)], [('punct', 9)], [('conj:and', 7)], [('cc', 12)], [('advmod', 12)], [('conj:and', 7)], [('cc', 15)], [('aux', 15)], [('conj:and', 7)], [('obj', 15)], [('advmod', 18)], [('advmod', 15)], [('mark', 21)], [('nsubj', 21)], [('advcl:as', 17)], [('case', 24)], [('nmod:poss', 24)], [('obl:with', 15)], [('case', 28)], [('compound', 28)], [('compound', 26)], [('nmod:of', 24)], [('punct', 7)]]"
   ]
  },
  {
   "cell_type": "code",
   "execution_count": 3,
   "metadata": {},
   "outputs": [],
   "source": [
    "words = ['The', 'situation', 'in', 'Iraq', 'is', 'only', 'going', 'to', 'get', 'better', 'this', 'way', '.']\n",
    "tags =  ['det', 'nsubj', 'case', 'nmod', 'aux', 'advmod', 'root', 'mark', 'xcomp', 'xcomp', 'det', 'obj', 'punct']\n",
    "heads = [2, 7, 4, 2, 7, 7, 0, 9, 7, 9, 12, 10, 7]\n",
    "deps = [[('det', 2)], [('nsubj', 7), ('nsubj:xsubj', 9), ('nsubj:xsubj', 10)], [('case', 4)], [('nmod:in', 2)], [('aux', 7)], [('advmod', 7)], [('root', 0)], [('mark', 9)], '7:xcomp _', '9:xcomp _', [('det', 12)], [('obj', 10)], '7:punct _']"
   ]
  },
  {
   "cell_type": "code",
   "execution_count": 9,
   "metadata": {},
   "outputs": [],
   "source": [
    "orig = list(zip(tags, heads))\n",
    "#[('det', 2), ('nsubj', 7), ('nsubj', 4), ('acl:relcl', 2), ('advmod', 4), ('cop', 7), ('root', 0), ('punct', 9), ('conj', 7), ('cc', 12), ('advmod', 12), ('conj', 7), ('cc', 15), ('aux', 15), ('conj', 7), ('obj', 15), ('advmod', 18), ('advmod', 15), ('mark', 21), ('nsubj', 21), ('advcl', 17), ('case', 24), ('nmod:poss', 24), ('obl', 15), ('case', 28), ('compound', 28), ('compound', 26), ('nmod', 24), ('punct', 7)]\n",
    "\n",
    "enhanced = deps\n",
    "#[[('det', 2)], [('nsubj', 4), ('nsubj', 7), ('nsubj', 9), ('nsubj', 12), ('nsubj', 15)], [('ref', 2)], [('acl:relcl', 2)], [('advmod', 4)], [('cop', 7)], [('root', 0)], [('punct', 9)], [('conj:and', 7)], [('cc', 12)], [('advmod', 12)], [('conj:and', 7)], [('cc', 15)], [('aux', 15)], [('conj:and', 7)], [('obj', 15)], [('advmod', 18)], [('advmod', 15)], [('mark', 21)], [('nsubj', 21)], [('advcl:as', 17)], [('case', 24)], [('nmod:poss', 24)], [('obl:with', 15)], [('case', 28)], [('compound', 28)], [('compound', 26)], [('nmod:of', 24)], [('punct', 7)]]"
   ]
  },
  {
   "cell_type": "code",
   "execution_count": 28,
   "metadata": {},
   "outputs": [
    {
     "data": {
      "text/plain": [
       "[[('det', 2)],\n",
       " [('nsubj', 4), ('nsubj', 7), ('nsubj', 9), ('nsubj', 12), ('nsubj', 15)],\n",
       " [('ref', 2)],\n",
       " [('acl:relcl', 2)],\n",
       " [('advmod', 4)],\n",
       " [('cop', 7)],\n",
       " [('root', 0)],\n",
       " [('punct', 9)],\n",
       " [('conj:and', 7)],\n",
       " [('cc', 12)],\n",
       " [('advmod', 12)],\n",
       " [('conj:and', 7)],\n",
       " [('cc', 15)],\n",
       " [('aux', 15)],\n",
       " [('conj:and', 7)],\n",
       " [('obj', 15)],\n",
       " [('advmod', 18)],\n",
       " [('advmod', 15)],\n",
       " [('mark', 21)],\n",
       " [('nsubj', 21)],\n",
       " [('advcl:as', 17)],\n",
       " [('case', 24)],\n",
       " [('nmod:poss', 24)],\n",
       " [('obl:with', 15)],\n",
       " [('case', 28)],\n",
       " [('compound', 28)],\n",
       " [('compound', 26)],\n",
       " [('nmod:of', 24)],\n",
       " [('punct', 7)]]"
      ]
     },
     "execution_count": 28,
     "metadata": {},
     "output_type": "execute_result"
    }
   ],
   "source": [
    "enhanced"
   ]
  },
  {
   "cell_type": "code",
   "execution_count": 29,
   "metadata": {},
   "outputs": [
    {
     "data": {
      "text/plain": [
       "[[('det', 2)],\n",
       " [('nsubj', 4), ('nsubj', 7), ('nsubj', 9), ('nsubj', 12), ('nsubj', 15)],\n",
       " [('ref', 2)],\n",
       " [('acl:relcl', 2)],\n",
       " [('advmod', 4)],\n",
       " [('cop', 7)],\n",
       " [('root', 0)],\n",
       " [('punct', 9)],\n",
       " [('conj:and', 7)],\n",
       " [('cc', 12)],\n",
       " [('advmod', 12)],\n",
       " [('conj:and', 7)],\n",
       " [('cc', 15)],\n",
       " [('aux', 15)],\n",
       " [('conj:and', 7)],\n",
       " [('obj', 15)],\n",
       " [('advmod', 18)],\n",
       " [('advmod', 15)],\n",
       " [('mark', 21)],\n",
       " [('nsubj', 21)],\n",
       " [('advcl:as', 17)],\n",
       " [('case', 24)],\n",
       " [('nmod:poss', 24)],\n",
       " [('obl:with', 15)],\n",
       " [('case', 28)],\n",
       " [('compound', 28)],\n",
       " [('compound', 26)],\n",
       " [('nmod:of', 24)],\n",
       " [('punct', 7)]]"
      ]
     },
     "execution_count": 29,
     "metadata": {},
     "output_type": "execute_result"
    }
   ],
   "source": [
    "deps"
   ]
  },
  {
   "cell_type": "code",
   "execution_count": 33,
   "metadata": {},
   "outputs": [],
   "source": [
    "##1\n",
    "\n",
    "heads = []\n",
    "rels = []\n",
    "\n",
    "for target_output in deps:\n",
    "    # check if there is just 1 head\n",
    "    if len(target_output) == 1:\n",
    "        head = [x[1] for x in target_output]\n",
    "        rel = [x[0] for x in target_output]\n",
    "        heads.append(head)\n",
    "        rels.append(rel)\n",
    "    # more than 1 head\n",
    "    else:\n",
    "        # append all current target heads/rels to a list\n",
    "        current_heads = []\n",
    "        current_rels = []\n",
    "        for rel_head_tup in target_output:\n",
    "            current_heads.append(rel_head_tup[1])\n",
    "            current_rels.append(rel_head_tup[0])\n",
    "        heads.append(current_heads)\n",
    "        rels.append(current_rels)"
   ]
  },
  {
   "cell_type": "code",
   "execution_count": 31,
   "metadata": {},
   "outputs": [
    {
     "name": "stdout",
     "output_type": "stream",
     "text": [
      "[('nsubj', 4), ('nsubj', 7), ('nsubj', 9), ('nsubj', 12), ('nsubj', 15)]\n"
     ]
    }
   ],
   "source": [
    "##1\n",
    "\n",
    "heads = []\n",
    "rels = []\n",
    "\n",
    "for target_output in deps:\n",
    "    #print(target_output)\n",
    "    # check if there is just 1 head\n",
    "    if len(target_output) == 1:\n",
    "        #head = [x[1] for x in target_output]\n",
    "        # 0 = tuple, 1 is head (2nd elem of tuple)\n",
    "        head = target_output[0][1]\n",
    "        #print(head)\n",
    "    #    rel = [x[0] for x in target_output]\n",
    "        heads.append(head)\n",
    "    #    rels.append(rel)\n",
    "    # more than 1 head\n",
    "    else:\n",
    "        # append all current target heads/rels to a list\n",
    "        current_heads = []\n",
    "    #    current_rels = []\n",
    "        print(target_output)\n",
    "        for rel_head_tup in target_output:\n",
    "            #print(rel_head_tup)\n",
    "\n",
    "            current_heads.append(rel_head_tup[1])\n",
    "    #        current_rels.append(rel_head_tup[0])\n",
    "        hz = \"+\".join(str(h) for h in current_heads)\n",
    "        heads.append(hz)\n",
    "    #    rels.append(current_rels)"
   ]
  },
  {
   "cell_type": "code",
   "execution_count": 34,
   "metadata": {},
   "outputs": [
    {
     "data": {
      "text/plain": [
       "[[2],\n",
       " [4, 7, 9, 12, 15],\n",
       " [2],\n",
       " [2],\n",
       " [4],\n",
       " [7],\n",
       " [0],\n",
       " [9],\n",
       " [7],\n",
       " [12],\n",
       " [12],\n",
       " [7],\n",
       " [15],\n",
       " [15],\n",
       " [7],\n",
       " [15],\n",
       " [18],\n",
       " [15],\n",
       " [21],\n",
       " [21],\n",
       " [17],\n",
       " [24],\n",
       " [24],\n",
       " [15],\n",
       " [28],\n",
       " [28],\n",
       " [26],\n",
       " [24],\n",
       " [7]]"
      ]
     },
     "execution_count": 34,
     "metadata": {},
     "output_type": "execute_result"
    }
   ],
   "source": [
    "heads\n",
    "#rels"
   ]
  },
  {
   "cell_type": "code",
   "execution_count": 35,
   "metadata": {},
   "outputs": [
    {
     "data": {
      "text/plain": [
       "[['det'],\n",
       " ['nsubj', 'nsubj', 'nsubj', 'nsubj', 'nsubj'],\n",
       " ['ref'],\n",
       " ['acl:relcl'],\n",
       " ['advmod'],\n",
       " ['cop'],\n",
       " ['root'],\n",
       " ['punct'],\n",
       " ['conj:and'],\n",
       " ['cc'],\n",
       " ['advmod'],\n",
       " ['conj:and'],\n",
       " ['cc'],\n",
       " ['aux'],\n",
       " ['conj:and'],\n",
       " ['obj'],\n",
       " ['advmod'],\n",
       " ['advmod'],\n",
       " ['mark'],\n",
       " ['nsubj'],\n",
       " ['advcl:as'],\n",
       " ['case'],\n",
       " ['nmod:poss'],\n",
       " ['obl:with'],\n",
       " ['case'],\n",
       " ['compound'],\n",
       " ['compound'],\n",
       " ['nmod:of'],\n",
       " ['punct']]"
      ]
     },
     "execution_count": 35,
     "metadata": {},
     "output_type": "execute_result"
    }
   ],
   "source": [
    "rels"
   ]
  },
  {
   "cell_type": "code",
   "execution_count": null,
   "metadata": {},
   "outputs": [],
   "source": [
    "d=Union[List[str], List[int]]\n",
    "d"
   ]
  },
  {
   "cell_type": "code",
   "execution_count": null,
   "metadata": {},
   "outputs": [],
   "source": [
    "b = Sequence[int]\n",
    "c = List[int]"
   ]
  },
  {
   "cell_type": "code",
   "execution_count": null,
   "metadata": {},
   "outputs": [],
   "source": [
    "c.append([1])"
   ]
  },
  {
   "cell_type": "code",
   "execution_count": null,
   "metadata": {},
   "outputs": [],
   "source": [
    "from typing import TypeVar, Iterable, Tuple, Union\n",
    "S = TypeVar('S')\n",
    "Response = Union[Iterable[S], int]\n",
    "\n",
    "# Return type here is same as Union[Iterable[str], int]\n",
    "def response(query: str) -> Response[str]:\n",
    "    ...\n",
    "\n",
    "T = TypeVar('T', int, float, complex)\n",
    "Vec = Iterable[Tuple[T, T]]\n",
    "\n",
    "def inproduct(v: Vec[T]) -> T: # Same as Iterable[Tuple[T, T]]\n",
    "    return sum(x*y for x, y in v)"
   ]
  },
  {
   "cell_type": "code",
   "execution_count": null,
   "metadata": {},
   "outputs": [],
   "source": [
    "##2\n",
    "#labels : ``Union[List[str], List[int]]``\n",
    "\n",
    "heads = []\n",
    "rels = []\n",
    "\n",
    "for target_output in deps:\n",
    "    # check if there is just 1 head\n",
    "    if len(target_output) == 1:\n",
    "        head = [x[1] for x in target_output]\n",
    "        rel = [x[0] for x in target_output]\n",
    "        heads.append(head)\n",
    "        rels.append(rel)\n",
    "    # more than 1 head\n",
    "    else:\n",
    "        # append all current target heads/rels to a list\n",
    "        current_heads = []\n",
    "        current_rels = []\n",
    "        for rel_head_tup in target_output:\n",
    "            current_heads.append(rel_head_tup[1])\n",
    "            current_rels.append(rel_head_tup[0])\n",
    "        heads.append(current_heads)\n",
    "        rels.append(current_rels)"
   ]
  },
  {
   "cell_type": "code",
   "execution_count": 36,
   "metadata": {},
   "outputs": [
    {
     "name": "stdout",
     "output_type": "stream",
     "text": [
      "[2] ==> ['det']\n",
      "[4, 7, 9, 12, 15] ==> ['nsubj', 'nsubj', 'nsubj', 'nsubj', 'nsubj']\n",
      "[2] ==> ['ref']\n",
      "[2] ==> ['acl:relcl']\n",
      "[4] ==> ['advmod']\n",
      "[7] ==> ['cop']\n",
      "[0] ==> ['root']\n",
      "[9] ==> ['punct']\n",
      "[7] ==> ['conj:and']\n",
      "[12] ==> ['cc']\n",
      "[12] ==> ['advmod']\n",
      "[7] ==> ['conj:and']\n",
      "[15] ==> ['cc']\n",
      "[15] ==> ['aux']\n",
      "[7] ==> ['conj:and']\n",
      "[15] ==> ['obj']\n",
      "[18] ==> ['advmod']\n",
      "[15] ==> ['advmod']\n",
      "[21] ==> ['mark']\n",
      "[21] ==> ['nsubj']\n",
      "[17] ==> ['advcl:as']\n",
      "[24] ==> ['case']\n",
      "[24] ==> ['nmod:poss']\n",
      "[15] ==> ['obl:with']\n",
      "[28] ==> ['case']\n",
      "[28] ==> ['compound']\n",
      "[26] ==> ['compound']\n",
      "[24] ==> ['nmod:of']\n",
      "[7] ==> ['punct']\n"
     ]
    }
   ],
   "source": [
    "for h, r in list(zip(heads, rels)):\n",
    "    print(h, \"==>\", r)"
   ]
  },
  {
   "cell_type": "code",
   "execution_count": null,
   "metadata": {},
   "outputs": [],
   "source": [
    "heads"
   ]
  },
  {
   "cell_type": "code",
   "execution_count": null,
   "metadata": {},
   "outputs": [],
   "source": [
    "head_ids = list(chain.from_iterable(heads))\n",
    "head_ids"
   ]
  },
  {
   "cell_type": "code",
   "execution_count": null,
   "metadata": {},
   "outputs": [],
   "source": [
    "a = [x for x in heads]\n",
    "a"
   ]
  },
  {
   "cell_type": "code",
   "execution_count": 37,
   "metadata": {},
   "outputs": [
    {
     "data": {
      "text/plain": [
       "[([2], ['det']),\n",
       " ([4, 7, 9, 12, 15], ['nsubj', 'nsubj', 'nsubj', 'nsubj', 'nsubj']),\n",
       " ([2], ['ref']),\n",
       " ([2], ['acl:relcl']),\n",
       " ([4], ['advmod']),\n",
       " ([7], ['cop']),\n",
       " ([0], ['root']),\n",
       " ([9], ['punct']),\n",
       " ([7], ['conj:and']),\n",
       " ([12], ['cc']),\n",
       " ([12], ['advmod']),\n",
       " ([7], ['conj:and']),\n",
       " ([15], ['cc']),\n",
       " ([15], ['aux']),\n",
       " ([7], ['conj:and']),\n",
       " ([15], ['obj']),\n",
       " ([18], ['advmod']),\n",
       " ([15], ['advmod']),\n",
       " ([21], ['mark']),\n",
       " ([21], ['nsubj']),\n",
       " ([17], ['advcl:as']),\n",
       " ([24], ['case']),\n",
       " ([24], ['nmod:poss']),\n",
       " ([15], ['obl:with']),\n",
       " ([28], ['case']),\n",
       " ([28], ['compound']),\n",
       " ([26], ['compound']),\n",
       " ([24], ['nmod:of']),\n",
       " ([7], ['punct'])]"
      ]
     },
     "execution_count": 37,
     "metadata": {},
     "output_type": "execute_result"
    }
   ],
   "source": [
    "targs = list(zip(heads, rels))\n",
    "targs"
   ]
  },
  {
   "cell_type": "code",
   "execution_count": null,
   "metadata": {},
   "outputs": [],
   "source": [
    "yo = [x[0] for x in heads]\n",
    "yo"
   ]
  },
  {
   "cell_type": "code",
   "execution_count": 42,
   "metadata": {},
   "outputs": [
    {
     "name": "stdout",
     "output_type": "stream",
     "text": [
      "The , DET ==> 2\n",
      "team , NOUN ==> 7\n",
      "who , PRON ==> 4\n",
      "work , VERB ==> 2\n",
      "there , ADV ==> 4\n",
      "are , AUX ==> 7\n",
      "helpfull , ADJ ==> 0\n",
      ", , PUNCTADJ ==> 9\n",
      "friendly , CCONJ ==> 7\n",
      "and , ADV ==> 12\n",
      "extremely , ADJ ==> 12\n",
      "knowledgeable , CCONJ,AUX ==> 7\n",
      "and , VERB ==> 15\n",
      "will , PRON ==> 15\n",
      "help , ADV ==> 7\n",
      "you , ADV ==> 15\n",
      "as , SCONJ ==> 18\n",
      "much , PRON ==> 15\n",
      "as , AUX ==> 21\n",
      "they , ADP ==> 21\n",
      "can , PRON ==> 17\n",
      "with , NOUN ==> 24\n",
      "thier , ADP ==> 24\n",
      "years , NOUNADV ==> 15\n",
      "of , NOUN ==> 28\n",
      "hands , PUNCT ==> 28\n"
     ]
    },
    {
     "ename": "IndexError",
     "evalue": "list index out of range",
     "output_type": "error",
     "traceback": [
      "\u001b[0;31m---------------------------------------------------------------------------\u001b[0m",
      "\u001b[0;31mIndexError\u001b[0m                                Traceback (most recent call last)",
      "\u001b[0;32m<ipython-input-42-15f95641effe>\u001b[0m in \u001b[0;36m<module>\u001b[0;34m\u001b[0m\n\u001b[1;32m      1\u001b[0m \u001b[0;32mfor\u001b[0m \u001b[0mi\u001b[0m\u001b[0;34m,\u001b[0m \u001b[0mw\u001b[0m \u001b[0;32min\u001b[0m \u001b[0menumerate\u001b[0m\u001b[0;34m(\u001b[0m\u001b[0mwords\u001b[0m\u001b[0;34m)\u001b[0m\u001b[0;34m:\u001b[0m\u001b[0;34m\u001b[0m\u001b[0;34m\u001b[0m\u001b[0m\n\u001b[0;32m----> 2\u001b[0;31m     \u001b[0mprint\u001b[0m\u001b[0;34m(\u001b[0m\u001b[0mw\u001b[0m\u001b[0;34m,\u001b[0m \u001b[0;34m\",\"\u001b[0m\u001b[0;34m,\u001b[0m \u001b[0mpos\u001b[0m\u001b[0;34m[\u001b[0m\u001b[0mi\u001b[0m\u001b[0;34m]\u001b[0m\u001b[0;34m,\u001b[0m \u001b[0;34m\"==>\"\u001b[0m\u001b[0;34m,\u001b[0m \u001b[0mhead_ids\u001b[0m\u001b[0;34m[\u001b[0m\u001b[0mi\u001b[0m\u001b[0;34m]\u001b[0m\u001b[0;34m)\u001b[0m\u001b[0;34m\u001b[0m\u001b[0;34m\u001b[0m\u001b[0m\n\u001b[0m",
      "\u001b[0;31mIndexError\u001b[0m: list index out of range"
     ]
    }
   ],
   "source": [
    "for i, w in enumerate(words):\n",
    "    print(w, \",\", pos[i], \"==>\", head_ids[i])"
   ]
  },
  {
   "cell_type": "code",
   "execution_count": 40,
   "metadata": {
    "scrolled": true
   },
   "outputs": [
    {
     "name": "stdout",
     "output_type": "stream",
     "text": [
      "The , DET ==> [2]\n",
      "team , NOUN ==> [4, 7, 9, 12, 15]\n",
      "who , PRON ==> [2]\n",
      "work , VERB ==> [2]\n",
      "there , ADV ==> [4]\n",
      "are , AUX ==> [7]\n",
      "helpfull , ADJ ==> [0]\n",
      ", , PUNCTADJ ==> [9]\n",
      "friendly , CCONJ ==> [7]\n",
      "and , ADV ==> [12]\n",
      "extremely , ADJ ==> [12]\n",
      "knowledgeable , CCONJ,AUX ==> [7]\n",
      "and , VERB ==> [15]\n",
      "will , PRON ==> [15]\n",
      "help , ADV ==> [7]\n",
      "you , ADV ==> [15]\n",
      "as , SCONJ ==> [18]\n",
      "much , PRON ==> [15]\n",
      "as , AUX ==> [21]\n",
      "they , ADP ==> [21]\n",
      "can , PRON ==> [17]\n",
      "with , NOUN ==> [24]\n",
      "thier , ADP ==> [24]\n",
      "years , NOUNADV ==> [15]\n",
      "of , NOUN ==> [28]\n",
      "hands , PUNCT ==> [28]\n"
     ]
    },
    {
     "ename": "IndexError",
     "evalue": "list index out of range",
     "output_type": "error",
     "traceback": [
      "\u001b[0;31m---------------------------------------------------------------------------\u001b[0m",
      "\u001b[0;31mIndexError\u001b[0m                                Traceback (most recent call last)",
      "\u001b[0;32m<ipython-input-40-49cb7daf7512>\u001b[0m in \u001b[0;36m<module>\u001b[0;34m\u001b[0m\n\u001b[1;32m      1\u001b[0m \u001b[0;32mfor\u001b[0m \u001b[0mi\u001b[0m\u001b[0;34m,\u001b[0m \u001b[0mw\u001b[0m \u001b[0;32min\u001b[0m \u001b[0menumerate\u001b[0m\u001b[0;34m(\u001b[0m\u001b[0mwords\u001b[0m\u001b[0;34m)\u001b[0m\u001b[0;34m:\u001b[0m\u001b[0;34m\u001b[0m\u001b[0;34m\u001b[0m\u001b[0m\n\u001b[0;32m----> 2\u001b[0;31m     \u001b[0mprint\u001b[0m\u001b[0;34m(\u001b[0m\u001b[0mw\u001b[0m\u001b[0;34m,\u001b[0m \u001b[0;34m\",\"\u001b[0m\u001b[0;34m,\u001b[0m \u001b[0mpos\u001b[0m\u001b[0;34m[\u001b[0m\u001b[0mi\u001b[0m\u001b[0;34m]\u001b[0m\u001b[0;34m,\u001b[0m \u001b[0;34m\"==>\"\u001b[0m\u001b[0;34m,\u001b[0m \u001b[0mheads\u001b[0m\u001b[0;34m[\u001b[0m\u001b[0mi\u001b[0m\u001b[0;34m]\u001b[0m\u001b[0;34m)\u001b[0m\u001b[0;34m\u001b[0m\u001b[0;34m\u001b[0m\u001b[0m\n\u001b[0m",
      "\u001b[0;31mIndexError\u001b[0m: list index out of range"
     ]
    }
   ],
   "source": [
    "for i, w in enumerate(words):\n",
    "    print(w, \",\", pos[i], \"==>\", heads[i])"
   ]
  },
  {
   "cell_type": "code",
   "execution_count": 43,
   "metadata": {},
   "outputs": [
    {
     "name": "stdout",
     "output_type": "stream",
     "text": [
      "[[2], [4, 7, 9, 12, 15], [2], [2], [4], [7], [0], [9], [7], [12], [12], [7], [15], [15], [7], [15], [18], [15], [21], [21], [17], [24], [24], [15], [28], [28], [26], [24], [7]]\n"
     ]
    }
   ],
   "source": [
    "print(heads)"
   ]
  },
  {
   "cell_type": "code",
   "execution_count": null,
   "metadata": {},
   "outputs": [],
   "source": [
    "w_i = \"team\"\n",
    "h_i = [4, 7, 9, 12, 15]\n",
    "r_i = ['nsubj', 'nsubj', 'nsubj', 'nsubj', 'nsubj']"
   ]
  },
  {
   "cell_type": "code",
   "execution_count": null,
   "metadata": {},
   "outputs": [],
   "source": [
    "pred = list(zip(h_i, r_i))\n",
    "pred"
   ]
  },
  {
   "cell_type": "code",
   "execution_count": null,
   "metadata": {},
   "outputs": [],
   "source": [
    "heads"
   ]
  },
  {
   "cell_type": "code",
   "execution_count": null,
   "metadata": {},
   "outputs": [],
   "source": [
    "print(w_i, pred)"
   ]
  },
  {
   "cell_type": "code",
   "execution_count": null,
   "metadata": {},
   "outputs": [],
   "source": [
    "List[List]"
   ]
  },
  {
   "cell_type": "code",
   "execution_count": null,
   "metadata": {},
   "outputs": [],
   "source": [
    "fields: Dict[str, Field] = {}\n",
    "fields"
   ]
  },
  {
   "cell_type": "code",
   "execution_count": null,
   "metadata": {},
   "outputs": [],
   "source": [
    "## See : https://allenai.github.io/allennlp-docs/api/data/fields/multilabel_field/\n",
    "# https://github.com/allenai/allennlp/pull/1054\n",
    "# https://github.com/allenai/allennlp/pull/1054/commits/8f576a74d9ecf5fc817a0ca9c9f303fc400e58d6\n",
    "# https://github.com/allenai/allennlp/blob/master/allennlp/data/fields/multilabel_field.py"
   ]
  },
  {
   "cell_type": "code",
   "execution_count": null,
   "metadata": {},
   "outputs": [],
   "source": [
    "# fields pos {pos: a, b c d}\n",
    "# fields heads {heads: [a, b, c], [a], [b]}"
   ]
  },
  {
   "cell_type": "code",
   "execution_count": null,
   "metadata": {},
   "outputs": [],
   "source": [
    "d['a'] = 100  # existing key, so overwrite\n",
    "d['c'] = 3  # new key, so add\n",
    "d['d'] = 4"
   ]
  },
  {
   "cell_type": "code",
   "execution_count": null,
   "metadata": {},
   "outputs": [],
   "source": [
    "d = {}"
   ]
  },
  {
   "cell_type": "code",
   "execution_count": null,
   "metadata": {},
   "outputs": [],
   "source": [
    "a = [[1,2,3],[3,2,1],[6, 6, 6]]"
   ]
  },
  {
   "cell_type": "code",
   "execution_count": null,
   "metadata": {},
   "outputs": [],
   "source": [
    "for letter in a:\n",
    "    #print(letter)\n",
    "    d[\"loss\"] = a"
   ]
  },
  {
   "cell_type": "code",
   "execution_count": null,
   "metadata": {},
   "outputs": [],
   "source": [
    "d"
   ]
  },
  {
   "cell_type": "code",
   "execution_count": null,
   "metadata": {},
   "outputs": [],
   "source": [
    "x ={}"
   ]
  },
  {
   "cell_type": "code",
   "execution_count": null,
   "metadata": {},
   "outputs": [],
   "source": [
    "x[\"loss\"]"
   ]
  },
  {
   "cell_type": "code",
   "execution_count": null,
   "metadata": {},
   "outputs": [],
   "source": []
  }
 ],
 "metadata": {
  "kernelspec": {
   "display_name": "Python 3",
   "language": "python",
   "name": "python3"
  },
  "language_info": {
   "codemirror_mode": {
    "name": "ipython",
    "version": 3
   },
   "file_extension": ".py",
   "mimetype": "text/x-python",
   "name": "python",
   "nbconvert_exporter": "python",
   "pygments_lexer": "ipython3",
   "version": "3.7.5"
  }
 },
 "nbformat": 4,
 "nbformat_minor": 4
}
