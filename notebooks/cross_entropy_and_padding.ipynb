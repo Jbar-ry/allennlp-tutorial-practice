{
 "cells": [
  {
   "cell_type": "code",
   "execution_count": 1,
   "metadata": {},
   "outputs": [],
   "source": [
    "import copy\n",
    "import json\n",
    "import logging\n",
    "from collections import defaultdict\n",
    "from typing import Any, Dict, List, Optional, Sequence, Tuple, TypeVar, Union\n",
    "\n",
    "import math\n",
    "import numpy\n",
    "import torch\n",
    "import torch.nn as nn\n",
    "import torch.nn.functional as F\n",
    "from torch.autograd import Variable\n",
    "\n",
    "from allennlp.common.checks import ConfigurationError"
   ]
  },
  {
   "cell_type": "code",
   "execution_count": null,
   "metadata": {},
   "outputs": [],
   "source": [
    "# torch.Size([4, 18, 3])\n",
    "# targets shape torch.Size([4, 18, 3])\n",
    "# logit flats shape torch.Size([72, 62])\n",
    "# log_probs_flatshape torch.Size([72, 62])\n",
    "# log_probs_flat_flat shape torch.Size([4464, 1])\n",
    "# negative_log_likelihood_flat shape torch.Size([216, 1])\n",
    "# negative_log_likelihood_flat tensor([[4.1174],\n",
    "# negative_log_likelihood shape torch.Size([4, 18, 3])"
   ]
  },
  {
   "cell_type": "code",
   "execution_count": null,
   "metadata": {},
   "outputs": [],
   "source": [
    "logits = torch.randn(2, 4, 3)\n",
    "print(logits)\n",
    "print(logits.shape)"
   ]
  },
  {
   "cell_type": "code",
   "execution_count": null,
   "metadata": {},
   "outputs": [],
   "source": [
    "# flattens logits (batch_size * seq_len, num classes)\n",
    "logits_flat = logits.view(-1, logits.size(-1))\n",
    "print(logits_flat)\n",
    "print(logits_flat.shape)"
   ]
  },
  {
   "cell_type": "code",
   "execution_count": null,
   "metadata": {},
   "outputs": [],
   "source": [
    "# looks good, the probs are always highest where the logits are\n",
    "log_probs_flat = torch.nn.functional.log_softmax(logits_flat, dim=-1)\n",
    "print(log_probs_flat)\n",
    "print(log_probs_flat.shape)"
   ]
  },
  {
   "cell_type": "code",
   "execution_count": null,
   "metadata": {},
   "outputs": [],
   "source": [
    "# NB need to flatten again\n",
    "log_probs_flat_flat = log_probs_flat.view(-1, 1)\n",
    "print(log_probs_flat_flat)\n",
    "print(log_probs_flat_flat.shape)"
   ]
  },
  {
   "cell_type": "code",
   "execution_count": null,
   "metadata": {},
   "outputs": [],
   "source": [
    "z = torch.LongTensor([[[1., 0., 0.],\n",
    "         [4., 0., 0.],\n",
    "         [2., 3., 0.],\n",
    "         [4., 2., 0.]],\n",
    "\n",
    "        [[3., 2., 1.],\n",
    "         [4., 3., 2.],\n",
    "         [6., 4., 6.],\n",
    "         [7., 7., 7.]]])\n",
    "\n",
    "print(z.shape)\n",
    "targets=z"
   ]
  },
  {
   "cell_type": "code",
   "execution_count": null,
   "metadata": {},
   "outputs": [],
   "source": [
    "# label ids, e.g. ([32, 22, 3])\n",
    "#targets = torch.LongTensor(2, 4, 3).random_(0, 10)\n",
    "#targets = torch.randn(2, 4, 3)\n",
    "# targets = torch.zeros(2, 4, 3)\n",
    "# print(targets)\n",
    "# print(targets.shape)"
   ]
  },
  {
   "cell_type": "code",
   "execution_count": null,
   "metadata": {},
   "outputs": [],
   "source": [
    "# shape : (batch * max_len, 1)\n",
    "targets_flat = targets.view(-1,targets.size(-1))#.long()\n",
    "\n",
    "print(targets_flat)\n",
    "print(targets_flat.shape)"
   ]
  },
  {
   "cell_type": "code",
   "execution_count": null,
   "metadata": {},
   "outputs": [],
   "source": [
    "# targets are 3x longer because of 3 labels\n",
    "# ???\n",
    "negative_log_likelihood_flat = - torch.gather(log_probs_flat, dim=0, index=targets_flat)\n",
    "print(negative_log_likelihood_flat)\n",
    "print(negative_log_likelihood_flat.shape)"
   ]
  },
  {
   "cell_type": "code",
   "execution_count": null,
   "metadata": {},
   "outputs": [],
   "source": [
    "negative_log_likelihood = negative_log_likelihood_flat.view(*targets.size())\n",
    "print(negative_log_likelihood)\n",
    "print(negative_log_likelihood.shape)"
   ]
  },
  {
   "cell_type": "code",
   "execution_count": null,
   "metadata": {},
   "outputs": [],
   "source": [
    "tensor = torch.zeros(log_probs_flat.size())  # vector of zeros\n",
    "tensor.shape\n",
    "\n",
    "tensor.scatter_(0, torch.LongTensor(targets_flat), 1)"
   ]
  },
  {
   "cell_type": "code",
   "execution_count": null,
   "metadata": {},
   "outputs": [],
   "source": [
    "# label padding\n",
    "ymask = log_probs_flat_flat.data.new(log_probs_flat_flat.size()).zero_() # (N,C) all zero\n",
    "print(ymask)\n",
    "print(ymask.shape)"
   ]
  },
  {
   "cell_type": "code",
   "execution_count": null,
   "metadata": {},
   "outputs": [],
   "source": [
    "ymask.scatter_(0, z.view(-1,1), 4) # have to make y into shape (N,1) for scatter_ to be happy\n",
    "print(ymask)\n",
    "ymask = Variable(ymask)\n",
    "# pluck\n",
    "logpy = (log_probs_flat_flat * ymask).sum(1) # this hurts in my heart"
   ]
  },
  {
   "cell_type": "code",
   "execution_count": null,
   "metadata": {},
   "outputs": [],
   "source": [
    "logpy"
   ]
  },
  {
   "cell_type": "code",
   "execution_count": null,
   "metadata": {},
   "outputs": [],
   "source": [
    "print(z.view(-1,1))"
   ]
  },
  {
   "cell_type": "code",
   "execution_count": null,
   "metadata": {},
   "outputs": [],
   "source": [
    "# 2\n",
    "logp = torch.nn.functional.log_softmax(logits_flat, dim=-1)\n",
    "print(logp)\n"
   ]
  },
  {
   "cell_type": "code",
   "execution_count": null,
   "metadata": {},
   "outputs": [],
   "source": [
    "logpy = torch.gather(logp, 0, targets_flat).view(-1)\n",
    "print(logpy)"
   ]
  },
  {
   "cell_type": "code",
   "execution_count": null,
   "metadata": {},
   "outputs": [],
   "source": [
    "inputs = Variable(torch.rand(5,2))\n",
    "targets = Variable(torch.ones(5)).long()\n",
    "\n",
    "print(inputs)\n",
    "print(targets)"
   ]
  },
  {
   "cell_type": "code",
   "execution_count": 18,
   "metadata": {},
   "outputs": [
    {
     "name": "stdout",
     "output_type": "stream",
     "text": [
      "tensor([[ 1.8606,  0.0039, -0.1796,  0.8380,  0.2205],\n",
      "        [ 1.6247, -1.0459,  0.9171,  1.3358,  1.4977],\n",
      "        [ 0.3386, -0.6297,  0.3660, -0.3239,  0.4321],\n",
      "        [-0.1238, -0.9727,  1.7626,  0.8756, -0.4538],\n",
      "        [ 0.1278,  0.1793,  0.8850, -0.6632, -1.3309],\n",
      "        [ 0.2309,  0.9529, -1.9914,  0.1280, -0.3643],\n",
      "        [ 0.4050, -0.7707,  0.4456,  0.1011,  0.7456],\n",
      "        [-0.0980,  2.2740, -1.1081, -0.2956,  0.3958]])\n",
      "tensor([[4, 7, 5, 7, 2],\n",
      "        [7, 8, 3, 8, 2],\n",
      "        [1, 1, 4, 5, 4],\n",
      "        [9, 3, 9, 8, 1],\n",
      "        [8, 0, 1, 7, 0],\n",
      "        [9, 3, 4, 7, 1],\n",
      "        [9, 6, 6, 8, 7],\n",
      "        [7, 6, 5, 0, 3]])\n"
     ]
    }
   ],
   "source": [
    "y_hat = torch.randn(8, 5)\n",
    "#y_hat = torch.LongTensor(8, 5).random_(0, 10)\n",
    "print(y_hat)\n",
    "#y = torch.randn(16, 5)#.long()\n",
    "y = torch.LongTensor(8, 5).random_(0, 10)\n",
    "print(y)"
   ]
  },
  {
   "cell_type": "code",
   "execution_count": 19,
   "metadata": {},
   "outputs": [
    {
     "name": "stdout",
     "output_type": "stream",
     "text": [
      "tensor([[-0.6097, -2.4664, -2.6499, -1.6323, -2.2497],\n",
      "        [-1.1606, -3.8312, -1.8682, -1.4495, -1.2876],\n",
      "        [-1.3915, -2.3598, -1.3642, -2.0540, -1.2981],\n",
      "        [-2.4387, -3.2877, -0.5524, -1.4394, -2.7688],\n",
      "        [-1.5833, -1.5318, -0.8261, -2.3743, -3.0420],\n",
      "        [-1.5305, -0.8085, -3.7528, -1.6334, -2.1257],\n",
      "        [-1.5027, -2.6784, -1.4620, -1.8066, -1.1621],\n",
      "        [-2.6771, -0.3051, -3.6871, -2.8746, -2.1832]])\n",
      "torch.Size([8, 5])\n"
     ]
    }
   ],
   "source": [
    "logp = torch.nn.functional.log_softmax(y_hat, dim=-1) \n",
    "# get (N,C) log probabilities\n",
    "print(logp)\n",
    "print(logp.shape)"
   ]
  },
  {
   "cell_type": "code",
   "execution_count": 23,
   "metadata": {},
   "outputs": [
    {
     "name": "stdout",
     "output_type": "stream",
     "text": [
      "tensor([[-0.6097],\n",
      "        [-2.4664],\n",
      "        [-2.6499],\n",
      "        [-1.6323],\n",
      "        [-2.2497],\n",
      "        [-1.1606],\n",
      "        [-3.8312],\n",
      "        [-1.8682],\n",
      "        [-1.4495],\n",
      "        [-1.2876],\n",
      "        [-1.3915],\n",
      "        [-2.3598],\n",
      "        [-1.3642],\n",
      "        [-2.0540],\n",
      "        [-1.2981],\n",
      "        [-2.4387],\n",
      "        [-3.2877],\n",
      "        [-0.5524],\n",
      "        [-1.4394],\n",
      "        [-2.7688],\n",
      "        [-1.5833],\n",
      "        [-1.5318],\n",
      "        [-0.8261],\n",
      "        [-2.3743],\n",
      "        [-3.0420],\n",
      "        [-1.5305],\n",
      "        [-0.8085],\n",
      "        [-3.7528],\n",
      "        [-1.6334],\n",
      "        [-2.1257],\n",
      "        [-1.5027],\n",
      "        [-2.6784],\n",
      "        [-1.4620],\n",
      "        [-1.8066],\n",
      "        [-1.1621],\n",
      "        [-2.6771],\n",
      "        [-0.3051],\n",
      "        [-3.6871],\n",
      "        [-2.8746],\n",
      "        [-2.1832]])\n",
      "torch.Size([40, 1])\n"
     ]
    }
   ],
   "source": [
    "logp_flat = logp.view(-1, 1)\n",
    "print(logp_flat)\n",
    "print(logp_flat.shape)"
   ]
  },
  {
   "cell_type": "code",
   "execution_count": 21,
   "metadata": {},
   "outputs": [
    {
     "name": "stdout",
     "output_type": "stream",
     "text": [
      "torch.Size([40, 1])\n"
     ]
    }
   ],
   "source": [
    "y_flat = y.view(-1,1)\n",
    "print(y_flat.shape)"
   ]
  },
  {
   "cell_type": "code",
   "execution_count": 27,
   "metadata": {},
   "outputs": [
    {
     "name": "stdout",
     "output_type": "stream",
     "text": [
      "torch.Size([40, 1])\n"
     ]
    },
    {
     "data": {
      "text/plain": [
       "tensor([[1.],\n",
       "        [1.],\n",
       "        [1.],\n",
       "        [1.],\n",
       "        [1.],\n",
       "        [1.],\n",
       "        [1.],\n",
       "        [1.],\n",
       "        [1.],\n",
       "        [1.],\n",
       "        [0.],\n",
       "        [0.],\n",
       "        [0.],\n",
       "        [0.],\n",
       "        [0.],\n",
       "        [0.],\n",
       "        [0.],\n",
       "        [0.],\n",
       "        [0.],\n",
       "        [0.],\n",
       "        [0.],\n",
       "        [0.],\n",
       "        [0.],\n",
       "        [0.],\n",
       "        [0.],\n",
       "        [0.],\n",
       "        [0.],\n",
       "        [0.],\n",
       "        [0.],\n",
       "        [0.],\n",
       "        [0.],\n",
       "        [0.],\n",
       "        [0.],\n",
       "        [0.],\n",
       "        [0.],\n",
       "        [0.],\n",
       "        [0.],\n",
       "        [0.],\n",
       "        [0.],\n",
       "        [0.]])"
      ]
     },
     "execution_count": 27,
     "metadata": {},
     "output_type": "execute_result"
    }
   ],
   "source": [
    "# prepare an (N,C) array of 1s at the locations of ground truth\n",
    "ymask = logp_flat.data.new(logp_flat.size()).zero_() # (N,C) all zero\n",
    "#ymask = logp.data.new(logp.size()).zero_() # (N,C) all zero\n",
    "print(ymask.shape)\n",
    "\n",
    "ymask.scatter_(0, y.view(-1,1), 1) # have to make y into shape (N,1) for scatter_ to be happy\n"
   ]
  },
  {
   "cell_type": "code",
   "execution_count": 32,
   "metadata": {},
   "outputs": [],
   "source": [
    "#ymask = Variable(ymask)\n",
    "# pluck\n",
    "# multiply flattened logits by positive examples\n",
    "logpy = (logp_flat * ymask).sum(1) # this hurts in my heart"
   ]
  },
  {
   "cell_type": "code",
   "execution_count": 33,
   "metadata": {},
   "outputs": [
    {
     "data": {
      "text/plain": [
       "tensor([-0.6097, -2.4664, -2.6499, -1.6323, -2.2497, -1.1606, -3.8312, -1.8682,\n",
       "        -1.4495, -1.2876,  0.0000,  0.0000,  0.0000,  0.0000,  0.0000,  0.0000,\n",
       "         0.0000,  0.0000,  0.0000,  0.0000,  0.0000,  0.0000,  0.0000,  0.0000,\n",
       "         0.0000,  0.0000,  0.0000,  0.0000,  0.0000,  0.0000,  0.0000,  0.0000,\n",
       "         0.0000,  0.0000,  0.0000,  0.0000,  0.0000,  0.0000,  0.0000,  0.0000])"
      ]
     },
     "execution_count": 33,
     "metadata": {},
     "output_type": "execute_result"
    }
   ],
   "source": [
    "logpy"
   ]
  },
  {
   "cell_type": "code",
   "execution_count": null,
   "metadata": {},
   "outputs": [],
   "source": [
    "# label ids, e.g. ([32, 22, 3])\n",
    "#targets = torch.LongTensor(2, 4, 3).random_(0, 10)\n",
    "#targets = torch.randn(2, 4, 3)\n",
    "# targets = torch.zeros(2, 4, 3)\n",
    "# print(targets)\n",
    "# print(targets.shape)"
   ]
  },
  {
   "cell_type": "code",
   "execution_count": null,
   "metadata": {},
   "outputs": [],
   "source": []
  }
 ],
 "metadata": {
  "kernelspec": {
   "display_name": "Python 3",
   "language": "python",
   "name": "python3"
  },
  "language_info": {
   "codemirror_mode": {
    "name": "ipython",
    "version": 3
   },
   "file_extension": ".py",
   "mimetype": "text/x-python",
   "name": "python",
   "nbconvert_exporter": "python",
   "pygments_lexer": "ipython3",
   "version": "3.7.5"
  }
 },
 "nbformat": 4,
 "nbformat_minor": 4
}
